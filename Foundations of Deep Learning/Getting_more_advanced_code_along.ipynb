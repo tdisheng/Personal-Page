{
  "nbformat": 4,
  "nbformat_minor": 0,
  "metadata": {
    "colab": {
      "name": "Copy of DLDev01 -02 - TF2 Getting more advanced - code along.ipynb",
      "provenance": [],
      "collapsed_sections": [],
      "include_colab_link": true
    },
    "kernelspec": {
      "display_name": "Python 3",
      "language": "python",
      "name": "python3"
    },
    "accelerator": "GPU"
  },
  "cells": [
    {
      "cell_type": "markdown",
      "metadata": {
        "id": "view-in-github",
        "colab_type": "text"
      },
      "source": [
        "<a href=\"https://colab.research.google.com/github/tdisheng/Personal-Page/blob/master/Foundations%20of%20Deep%20Learning/Getting_more_advanced_code_along.ipynb\" target=\"_parent\"><img src=\"https://colab.research.google.com/assets/colab-badge.svg\" alt=\"Open In Colab\"/></a>"
      ]
    },
    {
      "cell_type": "markdown",
      "metadata": {
        "id": "DNOIe4e0m9iV"
      },
      "source": [
        "## Testing for GPU\n",
        "\n",
        "To Test if you have GPU set up\n",
        "\n",
        "Run the Cell below\n",
        "\n",
        "if no GPU is found press Runtime (in the menu at the top) and choose \"Change Runtime Type\" to GPU\n",
        " "
      ]
    },
    {
      "cell_type": "code",
      "metadata": {
        "id": "z8850AwrlS0O",
        "colab": {
          "base_uri": "https://localhost:8080/"
        },
        "outputId": "1e32bf02-220c-4566-a700-be5686dac3a7"
      },
      "source": [
        "# check nvidia card\n",
        "!nvidia-smi"
      ],
      "execution_count": null,
      "outputs": [
        {
          "output_type": "stream",
          "text": [
            "Thu Apr  8 07:32:34 2021       \n",
            "+-----------------------------------------------------------------------------+\n",
            "| NVIDIA-SMI 460.67       Driver Version: 460.32.03    CUDA Version: 11.2     |\n",
            "|-------------------------------+----------------------+----------------------+\n",
            "| GPU  Name        Persistence-M| Bus-Id        Disp.A | Volatile Uncorr. ECC |\n",
            "| Fan  Temp  Perf  Pwr:Usage/Cap|         Memory-Usage | GPU-Util  Compute M. |\n",
            "|                               |                      |               MIG M. |\n",
            "|===============================+======================+======================|\n",
            "|   0  Tesla K80           Off  | 00000000:00:04.0 Off |                    0 |\n",
            "| N/A   69C    P0    74W / 149W |    184MiB / 11441MiB |      0%      Default |\n",
            "|                               |                      |                  N/A |\n",
            "+-------------------------------+----------------------+----------------------+\n",
            "                                                                               \n",
            "+-----------------------------------------------------------------------------+\n",
            "| Processes:                                                                  |\n",
            "|  GPU   GI   CI        PID   Type   Process name                  GPU Memory |\n",
            "|        ID   ID                                                   Usage      |\n",
            "|=============================================================================|\n",
            "+-----------------------------------------------------------------------------+\n"
          ],
          "name": "stdout"
        }
      ]
    },
    {
      "cell_type": "code",
      "metadata": {
        "id": "daX1PO2TnBlJ",
        "colab": {
          "base_uri": "https://localhost:8080/"
        },
        "outputId": "4c34b694-e244-40c6-b145-7e6929d3578c"
      },
      "source": [
        "import tensorflow as tf\n",
        "device_name = tf.test.gpu_device_name()\n",
        "if device_name != '/device:GPU:0':\n",
        "  raise SystemError('GPU device not found')\n",
        "print('Found GPU at: {}'.format(device_name))"
      ],
      "execution_count": null,
      "outputs": [
        {
          "output_type": "stream",
          "text": [
            "Found GPU at: /device:GPU:0\n"
          ],
          "name": "stdout"
        }
      ]
    },
    {
      "cell_type": "markdown",
      "metadata": {
        "id": "oe8V2uQh9zbO"
      },
      "source": [
        "## 2. Getting  more advanced\n"
      ]
    },
    {
      "cell_type": "code",
      "metadata": {
        "id": "PKM3s4xx9zbQ"
      },
      "source": [
        "# import what we will use here\n",
        "import matplotlib.pyplot as plt\n",
        "import tensorflow as tf\n",
        "from tensorflow.keras.models import Model\n",
        "from tensorflow.keras.layers import Input, Dense, Dropout\n",
        "from tensorflow.keras.optimizers import SGD\n",
        "import numpy as np\n",
        "from tensorflow.keras.utils import plot_model\n"
      ],
      "execution_count": null,
      "outputs": []
    },
    {
      "cell_type": "code",
      "metadata": {
        "id": "5IlfDKhB9zbV",
        "colab": {
          "base_uri": "https://localhost:8080/"
        },
        "outputId": "84c223bd-4bd4-4d8d-bca7-4c1720aaf997"
      },
      "source": [
        "print(tf.keras.__version__)\n",
        "print(tf.__version__)"
      ],
      "execution_count": null,
      "outputs": [
        {
          "output_type": "stream",
          "text": [
            "2.4.0\n",
            "2.4.1\n"
          ],
          "name": "stdout"
        }
      ]
    },
    {
      "cell_type": "markdown",
      "metadata": {
        "id": "hq1bR2rf9zbb"
      },
      "source": [
        "### Lets import our dataset"
      ]
    },
    {
      "cell_type": "code",
      "metadata": {
        "id": "M6lc60yE9zbb"
      },
      "source": [
        "# load up our data\n",
        "from tensorflow.python.keras.datasets import mnist\n",
        "\n",
        "(x_train, y_train),(x_test,y_test) = mnist.load_data()"
      ],
      "execution_count": null,
      "outputs": []
    },
    {
      "cell_type": "markdown",
      "metadata": {
        "id": "3ePX3jpVQujC"
      },
      "source": [
        "**Preprocessing**"
      ]
    },
    {
      "cell_type": "code",
      "metadata": {
        "id": "QE3sIsEC9zbe",
        "colab": {
          "base_uri": "https://localhost:8080/"
        },
        "outputId": "2666bade-99e8-4ced-bb66-ebb7e1fd204a"
      },
      "source": [
        "# reshape input to a vector\n",
        "x_train = x_train.reshape(60000, 784)\n",
        "x_test = x_test.reshape(10000, 784)\n",
        "\n",
        "# convert to float32\n",
        "x_train = x_train.astype('float32')\n",
        "x_test = x_test.astype('float32')\n",
        "\n",
        "#standardize 0-1\n",
        "x_train /= 255\n",
        "x_test /= 255\n",
        "\n",
        "# let's print out our tensor shapes\n",
        "print(x_train.shape, 'train samples')\n",
        "print(x_test.shape, 'test samples')"
      ],
      "execution_count": null,
      "outputs": [
        {
          "output_type": "stream",
          "text": [
            "(60000, 784) train samples\n",
            "(10000, 784) test samples\n"
          ],
          "name": "stdout"
        }
      ]
    },
    {
      "cell_type": "code",
      "metadata": {
        "id": "p4BwOBoTetd2"
      },
      "source": [
        "# make one hot labels\n",
        "\n",
        "#number of classes\n",
        "n_classes = 10\n",
        "\n",
        "# convert class vectors to binary One Hot Encoded\n",
        "y_train = tf.keras.utils.to_categorical(y_train, num_classes=n_classes)\n",
        "y_test = tf.keras.utils.to_categorical(y_test, num_classes=n_classes)\n"
      ],
      "execution_count": null,
      "outputs": []
    },
    {
      "cell_type": "code",
      "metadata": {
        "id": "cyK92PSSe3Oe",
        "colab": {
          "base_uri": "https://localhost:8080/"
        },
        "outputId": "37fc99e5-630a-4f21-a309-76167dbe798b"
      },
      "source": [
        "# lets check out labels\n",
        "y_train[0]"
      ],
      "execution_count": null,
      "outputs": [
        {
          "output_type": "execute_result",
          "data": {
            "text/plain": [
              "array([0., 0., 0., 0., 0., 1., 0., 0., 0., 0.], dtype=float32)"
            ]
          },
          "metadata": {
            "tags": []
          },
          "execution_count": 74
        }
      ]
    },
    {
      "cell_type": "markdown",
      "metadata": {
        "id": "xnsQtySr9zbk"
      },
      "source": [
        "### Setting up our Network Hyper Parameters"
      ]
    },
    {
      "cell_type": "code",
      "metadata": {
        "id": "oS4-MoBu9zbl"
      },
      "source": [
        "# Training Parameters for basic MNIST\n",
        "learning_rate = 0.001\n",
        "training_epochs = 10\n",
        "batch_size = 128\n",
        "\n",
        "# Network Parameters\n",
        "n_input = 784 # MNIST data input (img shape: 28*28 flattened to be 784)\n",
        "n_hidden_1 = 256 # 1st layer number of neurons\n",
        "n_hidden_2 = 128 # 2nd layer number of neurons\n",
        "n_hidden_3 = 64 # 3rd layer number of neurons\n",
        "n_classes = 10 # MNIST classes for prediction(digits 0-9 )"
      ],
      "execution_count": null,
      "outputs": []
    },
    {
      "cell_type": "markdown",
      "metadata": {
        "id": "1mQhP6SL9zbo"
      },
      "source": [
        "### This time we are going to make a functional model instead of a sequential model"
      ]
    },
    {
      "cell_type": "code",
      "metadata": {
        "id": "hvT6TTk-9zbp"
      },
      "source": [
        "#make the model\n",
        "Inp = Input(shape=(n_input,), name='Input')\n",
        "x = Dense(n_hidden_1, activation='relu', name='Dense_01')(Inp)\n",
        "x = Dense(n_hidden_2, activation='relu', name='Dense_02')(x)\n",
        "x = Dense(n_hidden_3, activation='relu', name='Dense_03')(x)\n",
        "x = Dense(32, activation='relu', name='Dense_04')(x)\n",
        "output = Dense(n_classes, activation='softmax', name='output')(x)"
      ],
      "execution_count": null,
      "outputs": []
    },
    {
      "cell_type": "code",
      "metadata": {
        "id": "ldmwDo0c9zbs"
      },
      "source": [
        "# Assemble the model - This creates a model that includes our input, 4 dense hidden layers, output layer\n",
        "\n",
        "model = Model(Inp,output,name='Functional_01')"
      ],
      "execution_count": null,
      "outputs": []
    },
    {
      "cell_type": "code",
      "metadata": {
        "id": "V2TGpyFz9zbw",
        "colab": {
          "base_uri": "https://localhost:8080/"
        },
        "outputId": "b9f57d3b-8cee-416d-faa6-3811955e82ea"
      },
      "source": [
        "# take a look at our model\n",
        "model.summary()"
      ],
      "execution_count": null,
      "outputs": [
        {
          "output_type": "stream",
          "text": [
            "Model: \"Functional_01\"\n",
            "_________________________________________________________________\n",
            "Layer (type)                 Output Shape              Param #   \n",
            "=================================================================\n",
            "Input (InputLayer)           [(None, 784)]             0         \n",
            "_________________________________________________________________\n",
            "Dense_01 (Dense)             (None, 256)               200960    \n",
            "_________________________________________________________________\n",
            "Dense_02 (Dense)             (None, 128)               32896     \n",
            "_________________________________________________________________\n",
            "Dense_03 (Dense)             (None, 64)                8256      \n",
            "_________________________________________________________________\n",
            "Dense_04 (Dense)             (None, 32)                2080      \n",
            "_________________________________________________________________\n",
            "output (Dense)               (None, 10)                330       \n",
            "=================================================================\n",
            "Total params: 244,522\n",
            "Trainable params: 244,522\n",
            "Non-trainable params: 0\n",
            "_________________________________________________________________\n"
          ],
          "name": "stdout"
        }
      ]
    },
    {
      "cell_type": "code",
      "metadata": {
        "id": "oTb9SXlaVPU2",
        "colab": {
          "base_uri": "https://localhost:8080/",
          "height": 564
        },
        "outputId": "0006a783-6356-4b4b-efc2-41c1b4379d38"
      },
      "source": [
        "# plot the model out\n",
        "plot_model(model, to_file=\"new_model.png\")"
      ],
      "execution_count": null,
      "outputs": [
        {
          "output_type": "execute_result",
          "data": {
            "image/png": "[encoded data removed]",
            "text/plain": [
              "<IPython.core.display.Image object>"
            ]
          },
          "metadata": {
            "tags": []
          },
          "execution_count": 79
        }
      ]
    },
    {
      "cell_type": "code",
      "metadata": {
        "id": "GMDkez2a5dzu"
      },
      "source": [
        "# create an optimizer SGD\n",
        "opt = SGD(learning_rate=learning_rate)"
      ],
      "execution_count": null,
      "outputs": []
    },
    {
      "cell_type": "code",
      "metadata": {
        "id": "tjrHsPw49zbz"
      },
      "source": [
        "# compile the model\n",
        "model.compile(optimizer=opt, # 'SGD'\n",
        "              loss=tf.keras.losses.categorical_crossentropy, # 'categorical_crossentropy'\n",
        "              metrics=['accuracy'])"
      ],
      "execution_count": null,
      "outputs": []
    },
    {
      "cell_type": "code",
      "metadata": {
        "id": "C8k3E3KA9zb2"
      },
      "source": [
        ""
      ],
      "execution_count": null,
      "outputs": []
    },
    {
      "cell_type": "markdown",
      "metadata": {
        "id": "Hv_wyTlnfh_q"
      },
      "source": [
        "## Training"
      ]
    },
    {
      "cell_type": "code",
      "metadata": {
        "id": "gTocWISY9zb5",
        "colab": {
          "base_uri": "https://localhost:8080/"
        },
        "outputId": "79790614-f21d-4ea8-972f-b5fbc06b028d"
      },
      "source": [
        "# train the model\n",
        "history = model.fit(x_train, y_train,\n",
        "                    batch_size=batch_size,\n",
        "                    epochs=40,\n",
        "                    verbose=1, # This is for what we want it to display out as it trains \n",
        "                    validation_data=(x_test, y_test))"
      ],
      "execution_count": null,
      "outputs": [
        {
          "output_type": "stream",
          "text": [
            "Epoch 1/40\n",
            "469/469 [==============================] - 3s 5ms/step - loss: 2.3009 - accuracy: 0.1105 - val_loss: 2.2193 - val_accuracy: 0.2555\n",
            "Epoch 2/40\n",
            "469/469 [==============================] - 2s 4ms/step - loss: 2.1928 - accuracy: 0.2836 - val_loss: 2.0952 - val_accuracy: 0.3919\n",
            "Epoch 3/40\n",
            "469/469 [==============================] - 2s 4ms/step - loss: 2.0569 - accuracy: 0.4110 - val_loss: 1.8995 - val_accuracy: 0.5355\n",
            "Epoch 4/40\n",
            "469/469 [==============================] - 2s 4ms/step - loss: 1.8419 - accuracy: 0.5499 - val_loss: 1.6146 - val_accuracy: 0.6214\n",
            "Epoch 5/40\n",
            "469/469 [==============================] - 2s 4ms/step - loss: 1.5467 - accuracy: 0.6337 - val_loss: 1.3133 - val_accuracy: 0.6896\n",
            "Epoch 6/40\n",
            "469/469 [==============================] - 2s 4ms/step - loss: 1.2525 - accuracy: 0.7034 - val_loss: 1.0747 - val_accuracy: 0.7386\n",
            "Epoch 7/40\n",
            "469/469 [==============================] - 2s 4ms/step - loss: 1.0372 - accuracy: 0.7453 - val_loss: 0.9085 - val_accuracy: 0.7668\n",
            "Epoch 8/40\n",
            "469/469 [==============================] - 2s 4ms/step - loss: 0.8817 - accuracy: 0.7727 - val_loss: 0.7889 - val_accuracy: 0.7949\n",
            "Epoch 9/40\n",
            "469/469 [==============================] - 2s 4ms/step - loss: 0.7800 - accuracy: 0.7968 - val_loss: 0.6992 - val_accuracy: 0.8128\n",
            "Epoch 10/40\n",
            "469/469 [==============================] - 2s 4ms/step - loss: 0.6899 - accuracy: 0.8177 - val_loss: 0.6298 - val_accuracy: 0.8284\n",
            "Epoch 11/40\n",
            "469/469 [==============================] - 2s 4ms/step - loss: 0.6273 - accuracy: 0.8337 - val_loss: 0.5749 - val_accuracy: 0.8442\n",
            "Epoch 12/40\n",
            "469/469 [==============================] - 2s 4ms/step - loss: 0.5717 - accuracy: 0.8457 - val_loss: 0.5310 - val_accuracy: 0.8557\n",
            "Epoch 13/40\n",
            "469/469 [==============================] - 2s 4ms/step - loss: 0.5364 - accuracy: 0.8547 - val_loss: 0.4940 - val_accuracy: 0.8630\n",
            "Epoch 14/40\n",
            "469/469 [==============================] - 2s 4ms/step - loss: 0.5046 - accuracy: 0.8620 - val_loss: 0.4648 - val_accuracy: 0.8691\n",
            "Epoch 15/40\n",
            "469/469 [==============================] - 2s 4ms/step - loss: 0.4738 - accuracy: 0.8709 - val_loss: 0.4405 - val_accuracy: 0.8759\n",
            "Epoch 16/40\n",
            "469/469 [==============================] - 2s 4ms/step - loss: 0.4474 - accuracy: 0.8750 - val_loss: 0.4192 - val_accuracy: 0.8837\n",
            "Epoch 17/40\n",
            "469/469 [==============================] - 2s 4ms/step - loss: 0.4316 - accuracy: 0.8797 - val_loss: 0.4014 - val_accuracy: 0.8874\n",
            "Epoch 18/40\n",
            "469/469 [==============================] - 2s 4ms/step - loss: 0.4145 - accuracy: 0.8848 - val_loss: 0.3870 - val_accuracy: 0.8906\n",
            "Epoch 19/40\n",
            "469/469 [==============================] - 2s 4ms/step - loss: 0.3954 - accuracy: 0.8885 - val_loss: 0.3745 - val_accuracy: 0.8928\n",
            "Epoch 20/40\n",
            "469/469 [==============================] - 2s 4ms/step - loss: 0.3842 - accuracy: 0.8907 - val_loss: 0.3630 - val_accuracy: 0.8949\n",
            "Epoch 21/40\n",
            "469/469 [==============================] - 2s 4ms/step - loss: 0.3731 - accuracy: 0.8941 - val_loss: 0.3536 - val_accuracy: 0.8966\n",
            "Epoch 22/40\n",
            "469/469 [==============================] - 2s 4ms/step - loss: 0.3662 - accuracy: 0.8948 - val_loss: 0.3444 - val_accuracy: 0.8990\n",
            "Epoch 23/40\n",
            "469/469 [==============================] - 2s 4ms/step - loss: 0.3553 - accuracy: 0.8987 - val_loss: 0.3361 - val_accuracy: 0.9013\n",
            "Epoch 24/40\n",
            "469/469 [==============================] - 2s 4ms/step - loss: 0.3459 - accuracy: 0.9016 - val_loss: 0.3296 - val_accuracy: 0.9028\n",
            "Epoch 25/40\n",
            "469/469 [==============================] - 2s 4ms/step - loss: 0.3423 - accuracy: 0.9031 - val_loss: 0.3231 - val_accuracy: 0.9049\n",
            "Epoch 26/40\n",
            "469/469 [==============================] - 2s 4ms/step - loss: 0.3306 - accuracy: 0.9056 - val_loss: 0.3173 - val_accuracy: 0.9063\n",
            "Epoch 27/40\n",
            "469/469 [==============================] - 2s 4ms/step - loss: 0.3250 - accuracy: 0.9087 - val_loss: 0.3120 - val_accuracy: 0.9080\n",
            "Epoch 28/40\n",
            "469/469 [==============================] - 2s 4ms/step - loss: 0.3216 - accuracy: 0.9068 - val_loss: 0.3075 - val_accuracy: 0.9099\n",
            "Epoch 29/40\n",
            "469/469 [==============================] - 2s 4ms/step - loss: 0.3161 - accuracy: 0.9084 - val_loss: 0.3024 - val_accuracy: 0.9105\n",
            "Epoch 30/40\n",
            "469/469 [==============================] - 2s 4ms/step - loss: 0.3137 - accuracy: 0.9097 - val_loss: 0.2978 - val_accuracy: 0.9123\n",
            "Epoch 31/40\n",
            "469/469 [==============================] - 2s 4ms/step - loss: 0.3082 - accuracy: 0.9119 - val_loss: 0.2931 - val_accuracy: 0.9139\n",
            "Epoch 32/40\n",
            "469/469 [==============================] - 2s 4ms/step - loss: 0.3058 - accuracy: 0.9124 - val_loss: 0.2892 - val_accuracy: 0.9141\n",
            "Epoch 33/40\n",
            "469/469 [==============================] - 2s 4ms/step - loss: 0.2997 - accuracy: 0.9138 - val_loss: 0.2854 - val_accuracy: 0.9160\n",
            "Epoch 34/40\n",
            "469/469 [==============================] - 2s 4ms/step - loss: 0.2954 - accuracy: 0.9159 - val_loss: 0.2822 - val_accuracy: 0.9169\n",
            "Epoch 35/40\n",
            "469/469 [==============================] - 2s 4ms/step - loss: 0.2920 - accuracy: 0.9158 - val_loss: 0.2789 - val_accuracy: 0.9179\n",
            "Epoch 36/40\n",
            "469/469 [==============================] - 2s 4ms/step - loss: 0.2923 - accuracy: 0.9169 - val_loss: 0.2753 - val_accuracy: 0.9181\n",
            "Epoch 37/40\n",
            "469/469 [==============================] - 2s 4ms/step - loss: 0.2862 - accuracy: 0.9162 - val_loss: 0.2719 - val_accuracy: 0.9195\n",
            "Epoch 38/40\n",
            "469/469 [==============================] - 2s 4ms/step - loss: 0.2811 - accuracy: 0.9189 - val_loss: 0.2691 - val_accuracy: 0.9200\n",
            "Epoch 39/40\n",
            "469/469 [==============================] - 2s 4ms/step - loss: 0.2754 - accuracy: 0.9209 - val_loss: 0.2663 - val_accuracy: 0.9209\n",
            "Epoch 40/40\n",
            "469/469 [==============================] - 2s 4ms/step - loss: 0.2704 - accuracy: 0.9214 - val_loss: 0.2626 - val_accuracy: 0.9216\n"
          ],
          "name": "stdout"
        }
      ]
    },
    {
      "cell_type": "code",
      "metadata": {
        "id": "WyBIf9qjRmqj",
        "colab": {
          "base_uri": "https://localhost:8080/"
        },
        "outputId": "3c69bee4-0a16-4e2e-d5f2-d288e4e67471"
      },
      "source": [
        "history.history"
      ],
      "execution_count": null,
      "outputs": [
        {
          "output_type": "execute_result",
          "data": {
            "text/plain": [
              "{'accuracy': [0.15533334016799927,\n",
              "  0.3181000053882599,\n",
              "  0.44670000672340393,\n",
              "  0.5722500085830688,\n",
              "  0.6519500017166138,\n",
              "  0.7126500010490417,\n",
              "  0.7511166930198669,\n",
              "  0.7785333395004272,\n",
              "  0.8023666739463806,\n",
              "  0.8203333616256714,\n",
              "  0.8349000215530396,\n",
              "  0.846750020980835,\n",
              "  0.8565499782562256,\n",
              "  0.864716649055481,\n",
              "  0.8716333508491516,\n",
              "  0.8773000240325928,\n",
              "  0.8823000192642212,\n",
              "  0.8861500024795532,\n",
              "  0.8892666697502136,\n",
              "  0.8918499946594238,\n",
              "  0.8950333595275879,\n",
              "  0.8969333171844482,\n",
              "  0.899649977684021,\n",
              "  0.901533305644989,\n",
              "  0.9034333229064941,\n",
              "  0.9053166508674622,\n",
              "  0.9064333438873291,\n",
              "  0.9082666635513306,\n",
              "  0.9092000126838684,\n",
              "  0.911050021648407,\n",
              "  0.9120833277702332,\n",
              "  0.9130833148956299,\n",
              "  0.9146000146865845,\n",
              "  0.9155333042144775,\n",
              "  0.916533350944519,\n",
              "  0.9178833365440369,\n",
              "  0.9186000227928162,\n",
              "  0.9196333289146423,\n",
              "  0.9204000234603882,\n",
              "  0.9217833280563354],\n",
              " 'loss': [2.2721407413482666,\n",
              "  2.1636717319488525,\n",
              "  2.0102806091308594,\n",
              "  1.771324634552002,\n",
              "  1.4709172248840332,\n",
              "  1.1970077753067017,\n",
              "  0.9958962202072144,\n",
              "  0.8550280332565308,\n",
              "  0.7522190809249878,\n",
              "  0.673869252204895,\n",
              "  0.6131668090820312,\n",
              "  0.5644434094429016,\n",
              "  0.5250694155693054,\n",
              "  0.49270543456077576,\n",
              "  0.4658929109573364,\n",
              "  0.4434266686439514,\n",
              "  0.42449772357940674,\n",
              "  0.40833473205566406,\n",
              "  0.39449962973594666,\n",
              "  0.38244518637657166,\n",
              "  0.3718996047973633,\n",
              "  0.3625945746898651,\n",
              "  0.3540858328342438,\n",
              "  0.34652596712112427,\n",
              "  0.3394174575805664,\n",
              "  0.33314618468284607,\n",
              "  0.3273121118545532,\n",
              "  0.321774423122406,\n",
              "  0.3164720833301544,\n",
              "  0.31164246797561646,\n",
              "  0.3070487678050995,\n",
              "  0.3025415241718292,\n",
              "  0.2983592748641968,\n",
              "  0.29421693086624146,\n",
              "  0.2904607355594635,\n",
              "  0.28669559955596924,\n",
              "  0.2831781208515167,\n",
              "  0.2795526683330536,\n",
              "  0.27615347504615784,\n",
              "  0.27299830317497253],\n",
              " 'val_accuracy': [0.2554999887943268,\n",
              "  0.3919000029563904,\n",
              "  0.5354999899864197,\n",
              "  0.621399998664856,\n",
              "  0.6895999908447266,\n",
              "  0.7386000156402588,\n",
              "  0.7667999863624573,\n",
              "  0.7949000000953674,\n",
              "  0.8127999901771545,\n",
              "  0.8284000158309937,\n",
              "  0.8442000150680542,\n",
              "  0.8557000160217285,\n",
              "  0.8629999756813049,\n",
              "  0.8690999746322632,\n",
              "  0.8758999705314636,\n",
              "  0.8837000131607056,\n",
              "  0.8873999714851379,\n",
              "  0.8906000256538391,\n",
              "  0.892799973487854,\n",
              "  0.8949000239372253,\n",
              "  0.8966000080108643,\n",
              "  0.8989999890327454,\n",
              "  0.9013000130653381,\n",
              "  0.9028000235557556,\n",
              "  0.9049000144004822,\n",
              "  0.9063000082969666,\n",
              "  0.9079999923706055,\n",
              "  0.9099000096321106,\n",
              "  0.9104999899864197,\n",
              "  0.9122999906539917,\n",
              "  0.9139000177383423,\n",
              "  0.9140999913215637,\n",
              "  0.9160000085830688,\n",
              "  0.9168999791145325,\n",
              "  0.917900025844574,\n",
              "  0.9180999994277954,\n",
              "  0.9194999933242798,\n",
              "  0.9200000166893005,\n",
              "  0.9208999872207642,\n",
              "  0.9215999841690063],\n",
              " 'val_loss': [2.219291925430298,\n",
              "  2.0951645374298096,\n",
              "  1.899475336074829,\n",
              "  1.6145615577697754,\n",
              "  1.3133125305175781,\n",
              "  1.0746991634368896,\n",
              "  0.9085174798965454,\n",
              "  0.788889467716217,\n",
              "  0.699181318283081,\n",
              "  0.6297848224639893,\n",
              "  0.574896514415741,\n",
              "  0.5309701561927795,\n",
              "  0.4940442442893982,\n",
              "  0.4648023545742035,\n",
              "  0.4405306279659271,\n",
              "  0.4191746115684509,\n",
              "  0.4013783633708954,\n",
              "  0.38700026273727417,\n",
              "  0.37448015809059143,\n",
              "  0.3629724979400635,\n",
              "  0.3536418378353119,\n",
              "  0.34437844157218933,\n",
              "  0.3361133933067322,\n",
              "  0.3296084702014923,\n",
              "  0.3230741322040558,\n",
              "  0.317295640707016,\n",
              "  0.3120139241218567,\n",
              "  0.3075350224971771,\n",
              "  0.3023989796638489,\n",
              "  0.29779374599456787,\n",
              "  0.29307687282562256,\n",
              "  0.28917041420936584,\n",
              "  0.28539639711380005,\n",
              "  0.28215861320495605,\n",
              "  0.27887481451034546,\n",
              "  0.275264173746109,\n",
              "  0.27191683650016785,\n",
              "  0.269109845161438,\n",
              "  0.2663213014602661,\n",
              "  0.2625662684440613]}"
            ]
          },
          "metadata": {
            "tags": []
          },
          "execution_count": 83
        }
      ]
    },
    {
      "cell_type": "code",
      "metadata": {
        "id": "_V7jiezv9zb9"
      },
      "source": [
        "#now let's plot it out\n",
        "\n",
        "def plot_train(hist):\n",
        "    h = hist.history\n",
        "    if 'accuracy' in h:\n",
        "        meas='accuracy'\n",
        "        loc='lower right'\n",
        "    else:\n",
        "        meas='loss'\n",
        "        loc='upper right'\n",
        "    plt.plot(hist.history[meas])\n",
        "    plt.plot(hist.history['val_'+meas])\n",
        "    plt.title('model '+meas)\n",
        "    plt.ylabel(meas)\n",
        "    plt.xlabel('epoch')\n",
        "    plt.legend(['train', 'validation'], loc=loc)\n",
        "    "
      ],
      "execution_count": null,
      "outputs": []
    },
    {
      "cell_type": "code",
      "metadata": {
        "id": "C1sSBYAj9zcC",
        "colab": {
          "base_uri": "https://localhost:8080/",
          "height": 295
        },
        "outputId": "1c11752d-4b61-4f07-dd0d-04973e3f8c84"
      },
      "source": [
        "plot_train(history)"
      ],
      "execution_count": null,
      "outputs": [
        {
          "output_type": "display_data",
          "data": {
            "image/png": "[encoded data removed]",
            "text/plain": [
              "<Figure size 432x288 with 1 Axes>"
            ]
          },
          "metadata": {
            "tags": [],
            "needs_background": "light"
          }
        }
      ]
    },
    {
      "cell_type": "code",
      "metadata": {
        "id": "NvrUyl4H9zcE",
        "colab": {
          "base_uri": "https://localhost:8080/"
        },
        "outputId": "03ad11d2-b6fd-4f5d-c7ca-b56d0681b5b4"
      },
      "source": [
        "# now train some more\n",
        "history = model.fit(x_train, y_train,\n",
        "                    batch_size=batch_size,\n",
        "                    epochs=training_epochs,\n",
        "                    verbose=1, # This is for what we want it to display out as it trains \n",
        "                    validation_data=(x_test, y_test))"
      ],
      "execution_count": null,
      "outputs": [
        {
          "output_type": "stream",
          "text": [
            "Epoch 1/10\n",
            "469/469 [==============================] - 2s 4ms/step - loss: 0.2697 - accuracy: 0.9221 - val_loss: 0.2596 - val_accuracy: 0.9235\n",
            "Epoch 2/10\n",
            "469/469 [==============================] - 2s 4ms/step - loss: 0.2667 - accuracy: 0.9233 - val_loss: 0.2569 - val_accuracy: 0.9239\n",
            "Epoch 3/10\n",
            "469/469 [==============================] - 2s 4ms/step - loss: 0.2636 - accuracy: 0.9245 - val_loss: 0.2539 - val_accuracy: 0.9237\n",
            "Epoch 4/10\n",
            "469/469 [==============================] - 2s 4ms/step - loss: 0.2607 - accuracy: 0.9247 - val_loss: 0.2520 - val_accuracy: 0.9233\n",
            "Epoch 5/10\n",
            "469/469 [==============================] - 2s 4ms/step - loss: 0.2579 - accuracy: 0.9258 - val_loss: 0.2499 - val_accuracy: 0.9245\n",
            "Epoch 6/10\n",
            "469/469 [==============================] - 2s 4ms/step - loss: 0.2550 - accuracy: 0.9267 - val_loss: 0.2465 - val_accuracy: 0.9259\n",
            "Epoch 7/10\n",
            "469/469 [==============================] - 2s 4ms/step - loss: 0.2524 - accuracy: 0.9269 - val_loss: 0.2443 - val_accuracy: 0.9264\n",
            "Epoch 8/10\n",
            "469/469 [==============================] - 2s 4ms/step - loss: 0.2498 - accuracy: 0.9279 - val_loss: 0.2422 - val_accuracy: 0.9277\n",
            "Epoch 9/10\n",
            "469/469 [==============================] - 2s 4ms/step - loss: 0.2473 - accuracy: 0.9290 - val_loss: 0.2396 - val_accuracy: 0.9280\n",
            "Epoch 10/10\n",
            "469/469 [==============================] - 2s 4ms/step - loss: 0.2446 - accuracy: 0.9295 - val_loss: 0.2378 - val_accuracy: 0.9290\n"
          ],
          "name": "stdout"
        }
      ]
    },
    {
      "cell_type": "code",
      "metadata": {
        "id": "6ILMr_0UxHUl",
        "colab": {
          "base_uri": "https://localhost:8080/",
          "height": 295
        },
        "outputId": "00171b5e-e458-46a3-ace5-a46dfe52b0c9"
      },
      "source": [
        "plot_train(history)"
      ],
      "execution_count": null,
      "outputs": [
        {
          "output_type": "display_data",
          "data": {
            "image/png": "[encoded data removed]",
            "text/plain": [
              "<Figure size 432x288 with 1 Axes>"
            ]
          },
          "metadata": {
            "tags": [],
            "needs_background": "light"
          }
        }
      ]
    },
    {
      "cell_type": "markdown",
      "metadata": {
        "id": "nnj1AEX49zcG"
      },
      "source": [
        "## Dropout\n",
        "\n",
        "\n",
        "Now lets add dropout\n",
        "\n",
        "Dropout(0.3) = randomly dropout 30% of the units each pass through"
      ]
    },
    {
      "cell_type": "code",
      "metadata": {
        "id": "U9vSmyGP9zcH"
      },
      "source": [
        "# build a model with dropout\n",
        "Inp = Input(shape=(n_input,), name='Input')\n",
        "x = Dense(n_hidden_1, activation='relu', name='Dense_01')(Inp)\n",
        "x = Dropout(0.3)(x)\n",
        "x = Dense(n_hidden_2, activation='relu', name='Dense_02')(x)\n",
        "x = Dropout(0.3)(x)\n",
        "x = Dense(n_hidden_3, activation='relu', name='Dense_03')(x)\n",
        "x = Dropout(0.3)(x)\n",
        "output = Dense(n_classes, activation='softmax', name='output')(x)"
      ],
      "execution_count": null,
      "outputs": []
    },
    {
      "cell_type": "code",
      "metadata": {
        "id": "wmPu-qCd9zcJ"
      },
      "source": [
        "model = Model(Inp, output, name='With_Dropout')"
      ],
      "execution_count": null,
      "outputs": []
    },
    {
      "cell_type": "code",
      "metadata": {
        "id": "jPdLuK2W9zcK",
        "colab": {
          "base_uri": "https://localhost:8080/"
        },
        "outputId": "1faff2e3-ccfe-45cc-9727-b9d487aabed2"
      },
      "source": [
        "model.summary()"
      ],
      "execution_count": null,
      "outputs": [
        {
          "output_type": "stream",
          "text": [
            "Model: \"With_Dropout\"\n",
            "_________________________________________________________________\n",
            "Layer (type)                 Output Shape              Param #   \n",
            "=================================================================\n",
            "Input (InputLayer)           [(None, 784)]             0         \n",
            "_________________________________________________________________\n",
            "Dense_01 (Dense)             (None, 256)               200960    \n",
            "_________________________________________________________________\n",
            "dropout_3 (Dropout)          (None, 256)               0         \n",
            "_________________________________________________________________\n",
            "Dense_02 (Dense)             (None, 128)               32896     \n",
            "_________________________________________________________________\n",
            "dropout_4 (Dropout)          (None, 128)               0         \n",
            "_________________________________________________________________\n",
            "Dense_03 (Dense)             (None, 64)                8256      \n",
            "_________________________________________________________________\n",
            "dropout_5 (Dropout)          (None, 64)                0         \n",
            "_________________________________________________________________\n",
            "output (Dense)               (None, 10)                650       \n",
            "=================================================================\n",
            "Total params: 242,762\n",
            "Trainable params: 242,762\n",
            "Non-trainable params: 0\n",
            "_________________________________________________________________\n"
          ],
          "name": "stdout"
        }
      ]
    },
    {
      "cell_type": "code",
      "metadata": {
        "id": "AVvbyeVZ9zcM"
      },
      "source": [
        "# compile the model\n",
        "model.compile(loss='categorical_crossentropy',\n",
        "              optimizer= opt,\n",
        "              metrics=['accuracy'])"
      ],
      "execution_count": null,
      "outputs": []
    },
    {
      "cell_type": "code",
      "metadata": {
        "id": "xhdDUkXj9zcN",
        "colab": {
          "base_uri": "https://localhost:8080/"
        },
        "outputId": "1c9aa69d-6017-4c3f-89bc-d8bed3fc2b33"
      },
      "source": [
        "history = model.fit(x_train, y_train,\n",
        "                    batch_size=batch_size,\n",
        "                    epochs=30,\n",
        "                    verbose=1, # This is for what we want it to display out as it trains \n",
        "                    validation_data=(x_test, y_test))"
      ],
      "execution_count": null,
      "outputs": [
        {
          "output_type": "stream",
          "text": [
            "Epoch 1/30\n",
            "469/469 [==============================] - 3s 5ms/step - loss: 2.3537 - accuracy: 0.1072 - val_loss: 2.2043 - val_accuracy: 0.2880\n",
            "Epoch 2/30\n",
            "469/469 [==============================] - 2s 4ms/step - loss: 2.2338 - accuracy: 0.1786 - val_loss: 2.0939 - val_accuracy: 0.4873\n",
            "Epoch 3/30\n",
            "469/469 [==============================] - 2s 4ms/step - loss: 2.1416 - accuracy: 0.2511 - val_loss: 1.9462 - val_accuracy: 0.6105\n",
            "Epoch 4/30\n",
            "469/469 [==============================] - 2s 4ms/step - loss: 2.0232 - accuracy: 0.3313 - val_loss: 1.7649 - val_accuracy: 0.6779\n",
            "Epoch 5/30\n",
            "469/469 [==============================] - 2s 4ms/step - loss: 1.8897 - accuracy: 0.3982 - val_loss: 1.5609 - val_accuracy: 0.7161\n",
            "Epoch 6/30\n",
            "469/469 [==============================] - 2s 4ms/step - loss: 1.7420 - accuracy: 0.4513 - val_loss: 1.3586 - val_accuracy: 0.7489\n",
            "Epoch 7/30\n",
            "469/469 [==============================] - 2s 4ms/step - loss: 1.5943 - accuracy: 0.5035 - val_loss: 1.1788 - val_accuracy: 0.7728\n",
            "Epoch 8/30\n",
            "469/469 [==============================] - 2s 4ms/step - loss: 1.4688 - accuracy: 0.5334 - val_loss: 1.0327 - val_accuracy: 0.7896\n",
            "Epoch 9/30\n",
            "469/469 [==============================] - 2s 4ms/step - loss: 1.3497 - accuracy: 0.5714 - val_loss: 0.9153 - val_accuracy: 0.8098\n",
            "Epoch 10/30\n",
            "469/469 [==============================] - 2s 4ms/step - loss: 1.2614 - accuracy: 0.5943 - val_loss: 0.8263 - val_accuracy: 0.8205\n",
            "Epoch 11/30\n",
            "469/469 [==============================] - 2s 4ms/step - loss: 1.1798 - accuracy: 0.6188 - val_loss: 0.7562 - val_accuracy: 0.8310\n",
            "Epoch 12/30\n",
            "469/469 [==============================] - 2s 4ms/step - loss: 1.1046 - accuracy: 0.6450 - val_loss: 0.6987 - val_accuracy: 0.8379\n",
            "Epoch 13/30\n",
            "469/469 [==============================] - 2s 4ms/step - loss: 1.0476 - accuracy: 0.6596 - val_loss: 0.6542 - val_accuracy: 0.8447\n",
            "Epoch 14/30\n",
            "469/469 [==============================] - 2s 4ms/step - loss: 0.9955 - accuracy: 0.6794 - val_loss: 0.6163 - val_accuracy: 0.8515\n",
            "Epoch 15/30\n",
            "469/469 [==============================] - 2s 4ms/step - loss: 0.9467 - accuracy: 0.6907 - val_loss: 0.5838 - val_accuracy: 0.8584\n",
            "Epoch 16/30\n",
            "469/469 [==============================] - 2s 4ms/step - loss: 0.9205 - accuracy: 0.7008 - val_loss: 0.5572 - val_accuracy: 0.8619\n",
            "Epoch 17/30\n",
            "469/469 [==============================] - 2s 4ms/step - loss: 0.8879 - accuracy: 0.7117 - val_loss: 0.5343 - val_accuracy: 0.8666\n",
            "Epoch 18/30\n",
            "469/469 [==============================] - 2s 4ms/step - loss: 0.8444 - accuracy: 0.7260 - val_loss: 0.5134 - val_accuracy: 0.8705\n",
            "Epoch 19/30\n",
            "469/469 [==============================] - 2s 4ms/step - loss: 0.8245 - accuracy: 0.7349 - val_loss: 0.4951 - val_accuracy: 0.8737\n",
            "Epoch 20/30\n",
            "469/469 [==============================] - 2s 4ms/step - loss: 0.8031 - accuracy: 0.7414 - val_loss: 0.4796 - val_accuracy: 0.8771\n",
            "Epoch 21/30\n",
            "469/469 [==============================] - 2s 4ms/step - loss: 0.7747 - accuracy: 0.7542 - val_loss: 0.4643 - val_accuracy: 0.8795\n",
            "Epoch 22/30\n",
            "469/469 [==============================] - 2s 4ms/step - loss: 0.7601 - accuracy: 0.7577 - val_loss: 0.4521 - val_accuracy: 0.8818\n",
            "Epoch 23/30\n",
            "469/469 [==============================] - 2s 4ms/step - loss: 0.7520 - accuracy: 0.7597 - val_loss: 0.4407 - val_accuracy: 0.8846\n",
            "Epoch 24/30\n",
            "469/469 [==============================] - 2s 4ms/step - loss: 0.7280 - accuracy: 0.7699 - val_loss: 0.4290 - val_accuracy: 0.8869\n",
            "Epoch 25/30\n",
            "469/469 [==============================] - 2s 4ms/step - loss: 0.7137 - accuracy: 0.7736 - val_loss: 0.4191 - val_accuracy: 0.8894\n",
            "Epoch 26/30\n",
            "469/469 [==============================] - 2s 4ms/step - loss: 0.6982 - accuracy: 0.7819 - val_loss: 0.4095 - val_accuracy: 0.8913\n",
            "Epoch 27/30\n",
            "469/469 [==============================] - 2s 4ms/step - loss: 0.6806 - accuracy: 0.7853 - val_loss: 0.4012 - val_accuracy: 0.8937\n",
            "Epoch 28/30\n",
            "469/469 [==============================] - 2s 4ms/step - loss: 0.6553 - accuracy: 0.7968 - val_loss: 0.3932 - val_accuracy: 0.8949\n",
            "Epoch 29/30\n",
            "469/469 [==============================] - 2s 4ms/step - loss: 0.6600 - accuracy: 0.7942 - val_loss: 0.3861 - val_accuracy: 0.8967\n",
            "Epoch 30/30\n",
            "469/469 [==============================] - 2s 4ms/step - loss: 0.6476 - accuracy: 0.8011 - val_loss: 0.3782 - val_accuracy: 0.8980\n"
          ],
          "name": "stdout"
        }
      ]
    },
    {
      "cell_type": "code",
      "metadata": {
        "id": "xibCPPgCvDhy",
        "colab": {
          "base_uri": "https://localhost:8080/"
        },
        "outputId": "4166bbe4-6bf1-4a2c-b42e-4cbd19e523ec"
      },
      "source": [
        "history = model.fit(x_train, y_train,\n",
        "                    batch_size=batch_size,\n",
        "                    epochs=training_epochs,\n",
        "                    verbose=1, # This is for what we want it to display out as it trains \n",
        "                    validation_data=(x_test, y_test))"
      ],
      "execution_count": null,
      "outputs": [
        {
          "output_type": "stream",
          "text": [
            "Epoch 1/10\n",
            "469/469 [==============================] - 2s 4ms/step - loss: 0.6303 - accuracy: 0.8053 - val_loss: 0.3725 - val_accuracy: 0.9002\n",
            "Epoch 2/10\n",
            "469/469 [==============================] - 2s 4ms/step - loss: 0.6178 - accuracy: 0.8096 - val_loss: 0.3658 - val_accuracy: 0.9018\n",
            "Epoch 3/10\n",
            "469/469 [==============================] - 2s 4ms/step - loss: 0.6073 - accuracy: 0.8145 - val_loss: 0.3603 - val_accuracy: 0.9032\n",
            "Epoch 4/10\n",
            "469/469 [==============================] - 2s 4ms/step - loss: 0.6000 - accuracy: 0.8163 - val_loss: 0.3551 - val_accuracy: 0.9037\n",
            "Epoch 5/10\n",
            "469/469 [==============================] - 2s 4ms/step - loss: 0.5910 - accuracy: 0.8199 - val_loss: 0.3492 - val_accuracy: 0.9040\n",
            "Epoch 6/10\n",
            "469/469 [==============================] - 2s 4ms/step - loss: 0.5798 - accuracy: 0.8234 - val_loss: 0.3440 - val_accuracy: 0.9049\n",
            "Epoch 7/10\n",
            "469/469 [==============================] - 2s 4ms/step - loss: 0.5682 - accuracy: 0.8273 - val_loss: 0.3393 - val_accuracy: 0.9062\n",
            "Epoch 8/10\n",
            "469/469 [==============================] - 2s 4ms/step - loss: 0.5619 - accuracy: 0.8290 - val_loss: 0.3351 - val_accuracy: 0.9069\n",
            "Epoch 9/10\n",
            "469/469 [==============================] - 2s 4ms/step - loss: 0.5597 - accuracy: 0.8316 - val_loss: 0.3308 - val_accuracy: 0.9076\n",
            "Epoch 10/10\n",
            "469/469 [==============================] - 2s 4ms/step - loss: 0.5563 - accuracy: 0.8318 - val_loss: 0.3277 - val_accuracy: 0.9082\n"
          ],
          "name": "stdout"
        }
      ]
    },
    {
      "cell_type": "code",
      "metadata": {
        "id": "ttVqY5J-w-6s",
        "colab": {
          "base_uri": "https://localhost:8080/"
        },
        "outputId": "ddf4a656-8633-4623-cd0f-82254adbb9f9"
      },
      "source": [
        "history = model.fit(x_train, y_train,\n",
        "                    batch_size=batch_size,\n",
        "                    epochs=training_epochs,\n",
        "                    verbose=1, # This is for what we want it to display out as it trains \n",
        "                    validation_data=(x_test, y_test))"
      ],
      "execution_count": null,
      "outputs": [
        {
          "output_type": "stream",
          "text": [
            "Epoch 1/10\n",
            "469/469 [==============================] - 2s 4ms/step - loss: 0.5479 - accuracy: 0.8353 - val_loss: 0.3237 - val_accuracy: 0.9100\n",
            "Epoch 2/10\n",
            "469/469 [==============================] - 2s 4ms/step - loss: 0.5344 - accuracy: 0.8393 - val_loss: 0.3191 - val_accuracy: 0.9103\n",
            "Epoch 3/10\n",
            "469/469 [==============================] - 2s 4ms/step - loss: 0.5290 - accuracy: 0.8409 - val_loss: 0.3149 - val_accuracy: 0.9121\n",
            "Epoch 4/10\n",
            "469/469 [==============================] - 2s 4ms/step - loss: 0.5241 - accuracy: 0.8438 - val_loss: 0.3117 - val_accuracy: 0.9123\n",
            "Epoch 5/10\n",
            "469/469 [==============================] - 2s 4ms/step - loss: 0.5229 - accuracy: 0.8436 - val_loss: 0.3085 - val_accuracy: 0.9131\n",
            "Epoch 6/10\n",
            "469/469 [==============================] - 2s 4ms/step - loss: 0.5145 - accuracy: 0.8461 - val_loss: 0.3051 - val_accuracy: 0.9148\n",
            "Epoch 7/10\n",
            "469/469 [==============================] - 2s 4ms/step - loss: 0.5064 - accuracy: 0.8486 - val_loss: 0.3020 - val_accuracy: 0.9156\n",
            "Epoch 8/10\n",
            "469/469 [==============================] - 2s 4ms/step - loss: 0.5046 - accuracy: 0.8484 - val_loss: 0.2990 - val_accuracy: 0.9159\n",
            "Epoch 9/10\n",
            "469/469 [==============================] - 2s 4ms/step - loss: 0.4981 - accuracy: 0.8503 - val_loss: 0.2959 - val_accuracy: 0.9163\n",
            "Epoch 10/10\n",
            "469/469 [==============================] - 2s 4ms/step - loss: 0.4951 - accuracy: 0.8532 - val_loss: 0.2933 - val_accuracy: 0.9168\n"
          ],
          "name": "stdout"
        }
      ]
    },
    {
      "cell_type": "code",
      "metadata": {
        "id": "EDquRs36xOGL",
        "colab": {
          "base_uri": "https://localhost:8080/"
        },
        "outputId": "b3af9d9a-badc-4db6-a279-1c70fb11e05e"
      },
      "source": [
        "history = model.fit(x_train, y_train,\n",
        "                    batch_size=batch_size,\n",
        "                    epochs=50,\n",
        "                    verbose=1, # This is for what we want it to display out as it trains \n",
        "                    validation_data=(x_test, y_test))"
      ],
      "execution_count": null,
      "outputs": [
        {
          "output_type": "stream",
          "text": [
            "Epoch 1/50\n",
            "469/469 [==============================] - 2s 4ms/step - loss: 0.4869 - accuracy: 0.8565 - val_loss: 0.2904 - val_accuracy: 0.9183\n",
            "Epoch 2/50\n",
            "469/469 [==============================] - 2s 4ms/step - loss: 0.4817 - accuracy: 0.8579 - val_loss: 0.2874 - val_accuracy: 0.9188\n",
            "Epoch 3/50\n",
            "469/469 [==============================] - 2s 4ms/step - loss: 0.4780 - accuracy: 0.8580 - val_loss: 0.2857 - val_accuracy: 0.9199\n",
            "Epoch 4/50\n",
            "469/469 [==============================] - 2s 4ms/step - loss: 0.4704 - accuracy: 0.8589 - val_loss: 0.2828 - val_accuracy: 0.9201\n",
            "Epoch 5/50\n",
            "469/469 [==============================] - 2s 4ms/step - loss: 0.4738 - accuracy: 0.8586 - val_loss: 0.2802 - val_accuracy: 0.9209\n",
            "Epoch 6/50\n",
            "469/469 [==============================] - 2s 4ms/step - loss: 0.4646 - accuracy: 0.8635 - val_loss: 0.2784 - val_accuracy: 0.9218\n",
            "Epoch 7/50\n",
            "469/469 [==============================] - 2s 4ms/step - loss: 0.4649 - accuracy: 0.8631 - val_loss: 0.2758 - val_accuracy: 0.9229\n",
            "Epoch 8/50\n",
            "469/469 [==============================] - 2s 4ms/step - loss: 0.4611 - accuracy: 0.8638 - val_loss: 0.2734 - val_accuracy: 0.9228\n",
            "Epoch 9/50\n",
            "469/469 [==============================] - 2s 4ms/step - loss: 0.4542 - accuracy: 0.8667 - val_loss: 0.2715 - val_accuracy: 0.9234\n",
            "Epoch 10/50\n",
            "469/469 [==============================] - 2s 4ms/step - loss: 0.4519 - accuracy: 0.8659 - val_loss: 0.2693 - val_accuracy: 0.9240\n",
            "Epoch 11/50\n",
            "469/469 [==============================] - 2s 4ms/step - loss: 0.4492 - accuracy: 0.8692 - val_loss: 0.2669 - val_accuracy: 0.9245\n",
            "Epoch 12/50\n",
            "469/469 [==============================] - 2s 4ms/step - loss: 0.4441 - accuracy: 0.8695 - val_loss: 0.2649 - val_accuracy: 0.9250\n",
            "Epoch 13/50\n",
            "469/469 [==============================] - 2s 4ms/step - loss: 0.4377 - accuracy: 0.8709 - val_loss: 0.2637 - val_accuracy: 0.9253\n",
            "Epoch 14/50\n",
            "469/469 [==============================] - 2s 4ms/step - loss: 0.4352 - accuracy: 0.8714 - val_loss: 0.2613 - val_accuracy: 0.9255\n",
            "Epoch 15/50\n",
            "469/469 [==============================] - 2s 4ms/step - loss: 0.4328 - accuracy: 0.8731 - val_loss: 0.2592 - val_accuracy: 0.9263\n",
            "Epoch 16/50\n",
            "469/469 [==============================] - 2s 4ms/step - loss: 0.4298 - accuracy: 0.8734 - val_loss: 0.2572 - val_accuracy: 0.9268\n",
            "Epoch 17/50\n",
            "469/469 [==============================] - 2s 4ms/step - loss: 0.4304 - accuracy: 0.8745 - val_loss: 0.2554 - val_accuracy: 0.9271\n",
            "Epoch 18/50\n",
            "469/469 [==============================] - 2s 4ms/step - loss: 0.4261 - accuracy: 0.8755 - val_loss: 0.2542 - val_accuracy: 0.9272\n",
            "Epoch 19/50\n",
            "469/469 [==============================] - 2s 4ms/step - loss: 0.4196 - accuracy: 0.8771 - val_loss: 0.2520 - val_accuracy: 0.9275\n",
            "Epoch 20/50\n",
            "469/469 [==============================] - 2s 4ms/step - loss: 0.4175 - accuracy: 0.8787 - val_loss: 0.2502 - val_accuracy: 0.9279\n",
            "Epoch 21/50\n",
            "469/469 [==============================] - 2s 4ms/step - loss: 0.4156 - accuracy: 0.8792 - val_loss: 0.2488 - val_accuracy: 0.9284\n",
            "Epoch 22/50\n",
            "469/469 [==============================] - 2s 4ms/step - loss: 0.4107 - accuracy: 0.8792 - val_loss: 0.2472 - val_accuracy: 0.9291\n",
            "Epoch 23/50\n",
            "469/469 [==============================] - 2s 4ms/step - loss: 0.4081 - accuracy: 0.8801 - val_loss: 0.2453 - val_accuracy: 0.9289\n",
            "Epoch 24/50\n",
            "469/469 [==============================] - 2s 4ms/step - loss: 0.4057 - accuracy: 0.8817 - val_loss: 0.2439 - val_accuracy: 0.9295\n",
            "Epoch 25/50\n",
            "469/469 [==============================] - 2s 4ms/step - loss: 0.4049 - accuracy: 0.8808 - val_loss: 0.2422 - val_accuracy: 0.9302\n",
            "Epoch 26/50\n",
            "469/469 [==============================] - 2s 4ms/step - loss: 0.3995 - accuracy: 0.8822 - val_loss: 0.2402 - val_accuracy: 0.9303\n",
            "Epoch 27/50\n",
            "469/469 [==============================] - 2s 4ms/step - loss: 0.3949 - accuracy: 0.8846 - val_loss: 0.2390 - val_accuracy: 0.9307\n",
            "Epoch 28/50\n",
            "469/469 [==============================] - 2s 4ms/step - loss: 0.3954 - accuracy: 0.8843 - val_loss: 0.2376 - val_accuracy: 0.9311\n",
            "Epoch 29/50\n",
            "469/469 [==============================] - 2s 4ms/step - loss: 0.3924 - accuracy: 0.8864 - val_loss: 0.2361 - val_accuracy: 0.9313\n",
            "Epoch 30/50\n",
            "469/469 [==============================] - 2s 4ms/step - loss: 0.3896 - accuracy: 0.8850 - val_loss: 0.2347 - val_accuracy: 0.9318\n",
            "Epoch 31/50\n",
            "469/469 [==============================] - 2s 4ms/step - loss: 0.3856 - accuracy: 0.8880 - val_loss: 0.2333 - val_accuracy: 0.9323\n",
            "Epoch 32/50\n",
            "469/469 [==============================] - 2s 4ms/step - loss: 0.3854 - accuracy: 0.8887 - val_loss: 0.2313 - val_accuracy: 0.9328\n",
            "Epoch 33/50\n",
            "469/469 [==============================] - 2s 4ms/step - loss: 0.3780 - accuracy: 0.8886 - val_loss: 0.2301 - val_accuracy: 0.9333\n",
            "Epoch 34/50\n",
            "469/469 [==============================] - 2s 4ms/step - loss: 0.3845 - accuracy: 0.8868 - val_loss: 0.2292 - val_accuracy: 0.9336\n",
            "Epoch 35/50\n",
            "469/469 [==============================] - 2s 4ms/step - loss: 0.3751 - accuracy: 0.8905 - val_loss: 0.2278 - val_accuracy: 0.9338\n",
            "Epoch 36/50\n",
            "469/469 [==============================] - 2s 4ms/step - loss: 0.3737 - accuracy: 0.8911 - val_loss: 0.2262 - val_accuracy: 0.9346\n",
            "Epoch 37/50\n",
            "469/469 [==============================] - 2s 4ms/step - loss: 0.3755 - accuracy: 0.8912 - val_loss: 0.2247 - val_accuracy: 0.9354\n",
            "Epoch 38/50\n",
            "469/469 [==============================] - 2s 4ms/step - loss: 0.3736 - accuracy: 0.8917 - val_loss: 0.2234 - val_accuracy: 0.9365\n",
            "Epoch 39/50\n",
            "469/469 [==============================] - 2s 4ms/step - loss: 0.3692 - accuracy: 0.8920 - val_loss: 0.2225 - val_accuracy: 0.9369\n",
            "Epoch 40/50\n",
            "469/469 [==============================] - 2s 4ms/step - loss: 0.3678 - accuracy: 0.8933 - val_loss: 0.2209 - val_accuracy: 0.9368\n",
            "Epoch 41/50\n",
            "469/469 [==============================] - 2s 4ms/step - loss: 0.3673 - accuracy: 0.8925 - val_loss: 0.2198 - val_accuracy: 0.9377\n",
            "Epoch 42/50\n",
            "469/469 [==============================] - 2s 4ms/step - loss: 0.3663 - accuracy: 0.8948 - val_loss: 0.2187 - val_accuracy: 0.9377\n",
            "Epoch 43/50\n",
            "469/469 [==============================] - 2s 4ms/step - loss: 0.3627 - accuracy: 0.8951 - val_loss: 0.2172 - val_accuracy: 0.9379\n",
            "Epoch 44/50\n",
            "469/469 [==============================] - 2s 4ms/step - loss: 0.3615 - accuracy: 0.8949 - val_loss: 0.2162 - val_accuracy: 0.9381\n",
            "Epoch 45/50\n",
            "469/469 [==============================] - 2s 4ms/step - loss: 0.3585 - accuracy: 0.8969 - val_loss: 0.2150 - val_accuracy: 0.9387\n",
            "Epoch 46/50\n",
            "469/469 [==============================] - 2s 4ms/step - loss: 0.3538 - accuracy: 0.8968 - val_loss: 0.2140 - val_accuracy: 0.9389\n",
            "Epoch 47/50\n",
            "469/469 [==============================] - 2s 4ms/step - loss: 0.3525 - accuracy: 0.8977 - val_loss: 0.2132 - val_accuracy: 0.9385\n",
            "Epoch 48/50\n",
            "469/469 [==============================] - 2s 4ms/step - loss: 0.3525 - accuracy: 0.8981 - val_loss: 0.2116 - val_accuracy: 0.9391\n",
            "Epoch 49/50\n",
            "469/469 [==============================] - 2s 4ms/step - loss: 0.3496 - accuracy: 0.8986 - val_loss: 0.2105 - val_accuracy: 0.9391\n",
            "Epoch 50/50\n",
            "469/469 [==============================] - 2s 4ms/step - loss: 0.3467 - accuracy: 0.9011 - val_loss: 0.2094 - val_accuracy: 0.9390\n"
          ],
          "name": "stdout"
        }
      ]
    },
    {
      "cell_type": "markdown",
      "metadata": {
        "id": "VnwLfVJ8hdUY"
      },
      "source": [
        "## Time to make some predictions"
      ]
    },
    {
      "cell_type": "code",
      "metadata": {
        "id": "BRFL_tCxDzzi",
        "colab": {
          "base_uri": "https://localhost:8080/"
        },
        "outputId": "e308631c-b4a1-4511-9b95-92fc3b15f178"
      },
      "source": [
        "# let's get some data\n",
        "x_test[0:10].shape"
      ],
      "execution_count": null,
      "outputs": [
        {
          "output_type": "execute_result",
          "data": {
            "text/plain": [
              "(10, 784)"
            ]
          },
          "metadata": {
            "tags": []
          },
          "execution_count": 96
        }
      ]
    },
    {
      "cell_type": "code",
      "metadata": {
        "id": "00i9SrKp9zcR"
      },
      "source": [
        "# predict with model.predict\n",
        "result = model.predict(x_test[0:10]) "
      ],
      "execution_count": null,
      "outputs": []
    },
    {
      "cell_type": "code",
      "metadata": {
        "id": "gl4caTJ-jI_p",
        "colab": {
          "base_uri": "https://localhost:8080/"
        },
        "outputId": "2714e395-cfe0-481b-e0c4-b06ec488de27"
      },
      "source": [
        "# check our predictions shape\n",
        "result.shape"
      ],
      "execution_count": null,
      "outputs": [
        {
          "output_type": "execute_result",
          "data": {
            "text/plain": [
              "(10, 10)"
            ]
          },
          "metadata": {
            "tags": []
          },
          "execution_count": 98
        }
      ]
    },
    {
      "cell_type": "code",
      "metadata": {
        "id": "LX_E1wWS8D1a",
        "colab": {
          "base_uri": "https://localhost:8080/"
        },
        "outputId": "8ce83fc6-6ffd-4eeb-f572-b0dda98e69fe"
      },
      "source": [
        "# let's look at the predictions\n",
        "result"
      ],
      "execution_count": null,
      "outputs": [
        {
          "output_type": "execute_result",
          "data": {
            "text/plain": [
              "array([[1.84432283e-05, 3.62766127e-06, 7.93300424e-05, 1.51669577e-04,\n",
              "        1.12485059e-05, 2.67238265e-05, 2.36483652e-06, 9.98938024e-01,\n",
              "        8.31621855e-06, 7.60216150e-04],\n",
              "       [3.45385284e-03, 2.34354840e-04, 9.77797747e-01, 1.01872189e-02,\n",
              "        1.74605339e-05, 1.51139172e-03, 4.43602121e-03, 6.71837624e-05,\n",
              "        2.28308700e-03, 1.17273003e-05],\n",
              "       [7.07023719e-05, 9.90237772e-01, 2.23693554e-03, 1.15359703e-03,\n",
              "        1.20670215e-04, 3.62089544e-04, 5.18466812e-04, 3.93569609e-03,\n",
              "        1.10416021e-03, 2.60021014e-04],\n",
              "       [9.98428464e-01, 2.76035576e-06, 5.56868501e-04, 9.71151021e-05,\n",
              "        2.21884170e-06, 3.34302604e-04, 3.44017026e-04, 1.51785614e-04,\n",
              "        6.44915417e-05, 1.80456191e-05],\n",
              "       [2.21280614e-04, 3.82310682e-05, 8.70349235e-04, 1.63096745e-04,\n",
              "        9.72434521e-01, 7.39903073e-04, 8.22948699e-04, 9.04868590e-04,\n",
              "        4.58321563e-04, 2.33463850e-02],\n",
              "       [8.23547089e-06, 9.97046888e-01, 3.60072707e-04, 3.48253816e-04,\n",
              "        2.99803141e-05, 3.54000731e-05, 4.70344021e-05, 1.59956317e-03,\n",
              "        4.19473799e-04, 1.05190280e-04],\n",
              "       [2.11214181e-04, 1.02638296e-04, 3.19583953e-04, 4.95712331e-04,\n",
              "        9.68157887e-01, 9.76100657e-03, 1.03809847e-03, 5.01002301e-04,\n",
              "        4.08519898e-03, 1.53275998e-02],\n",
              "       [1.49687039e-04, 9.03750362e-04, 9.77476477e-04, 1.21071748e-02,\n",
              "        2.63826698e-02, 5.46095986e-03, 2.00387643e-04, 1.70995332e-02,\n",
              "        6.48605870e-03, 9.30232286e-01],\n",
              "       [3.93581809e-03, 2.43205010e-04, 7.95611925e-03, 5.54643048e-04,\n",
              "        2.51439661e-02, 1.27006825e-02, 9.44071412e-01, 3.19311395e-04,\n",
              "        2.73101078e-03, 2.34384113e-03],\n",
              "       [2.16292956e-05, 1.68630577e-05, 4.10916764e-05, 1.01200269e-04,\n",
              "        9.56957694e-03, 8.19090783e-05, 3.30494113e-05, 7.68377865e-03,\n",
              "        5.06059267e-04, 9.81944919e-01]], dtype=float32)"
            ]
          },
          "metadata": {
            "tags": []
          },
          "execution_count": 99
        }
      ]
    },
    {
      "cell_type": "markdown",
      "metadata": {
        "id": "ZOH6DCJCLKaD"
      },
      "source": [
        "### Lets argmax the predictions"
      ]
    },
    {
      "cell_type": "code",
      "metadata": {
        "id": "NT2CBFFcX3sm",
        "colab": {
          "base_uri": "https://localhost:8080/"
        },
        "outputId": "0145c0c1-563f-441d-c695-9c9f38fca20d"
      },
      "source": [
        "# now we Argmax to get the class numbers, axis=1\n",
        "result.argmax(axis=1)"
      ],
      "execution_count": null,
      "outputs": [
        {
          "output_type": "execute_result",
          "data": {
            "text/plain": [
              "array([7, 2, 1, 0, 4, 1, 4, 9, 6, 9])"
            ]
          },
          "metadata": {
            "tags": []
          },
          "execution_count": 100
        }
      ]
    },
    {
      "cell_type": "code",
      "metadata": {
        "id": "ikniq7oJNmnk",
        "colab": {
          "base_uri": "https://localhost:8080/"
        },
        "outputId": "897e7124-1fd4-4c05-abde-15435af943c0"
      },
      "source": [
        "# what are the real labels\n",
        "y_test[0:10]"
      ],
      "execution_count": null,
      "outputs": [
        {
          "output_type": "execute_result",
          "data": {
            "text/plain": [
              "array([[0., 0., 0., 0., 0., 0., 0., 1., 0., 0.],\n",
              "       [0., 0., 1., 0., 0., 0., 0., 0., 0., 0.],\n",
              "       [0., 1., 0., 0., 0., 0., 0., 0., 0., 0.],\n",
              "       [1., 0., 0., 0., 0., 0., 0., 0., 0., 0.],\n",
              "       [0., 0., 0., 0., 1., 0., 0., 0., 0., 0.],\n",
              "       [0., 1., 0., 0., 0., 0., 0., 0., 0., 0.],\n",
              "       [0., 0., 0., 0., 1., 0., 0., 0., 0., 0.],\n",
              "       [0., 0., 0., 0., 0., 0., 0., 0., 0., 1.],\n",
              "       [0., 0., 0., 0., 0., 1., 0., 0., 0., 0.],\n",
              "       [0., 0., 0., 0., 0., 0., 0., 0., 0., 1.]], dtype=float32)"
            ]
          },
          "metadata": {
            "tags": []
          },
          "execution_count": 101
        }
      ]
    },
    {
      "cell_type": "markdown",
      "metadata": {
        "id": "rVkGagdzK7Bu"
      },
      "source": [
        "Let's argmax the One Hot Encoded vector of the test set"
      ]
    },
    {
      "cell_type": "code",
      "metadata": {
        "id": "04gj5adHG9UW",
        "colab": {
          "base_uri": "https://localhost:8080/"
        },
        "outputId": "ffebc02c-68d4-469b-ab7e-1e954998130b"
      },
      "source": [
        "# argmax the real labels\n",
        "np.argmax(y_test[0:10],axis=1)"
      ],
      "execution_count": null,
      "outputs": [
        {
          "output_type": "execute_result",
          "data": {
            "text/plain": [
              "array([7, 2, 1, 0, 4, 1, 4, 9, 5, 9])"
            ]
          },
          "metadata": {
            "tags": []
          },
          "execution_count": 102
        }
      ]
    },
    {
      "cell_type": "code",
      "metadata": {
        "id": "SRmtQqpt9zcT",
        "colab": {
          "base_uri": "https://localhost:8080/"
        },
        "outputId": "8b29db45-7bfa-43dd-e605-7d4c80316439"
      },
      "source": [
        "# evaluate the model to check our accuracy over the whole test set\n",
        "score = model.evaluate(x_test,y_test)\n",
        "\n",
        "print('Test loss:', score[0])\n",
        "print('Test accuracy:', score[1])"
      ],
      "execution_count": null,
      "outputs": [
        {
          "output_type": "stream",
          "text": [
            "313/313 [==============================] - 1s 3ms/step - loss: 0.2094 - accuracy: 0.9390\n",
            "Test loss: 0.20940837264060974\n",
            "Test accuracy: 0.9390000104904175\n"
          ],
          "name": "stdout"
        }
      ]
    },
    {
      "cell_type": "code",
      "metadata": {
        "id": "VBGrWqbH9zcW"
      },
      "source": [
        ""
      ],
      "execution_count": null,
      "outputs": []
    },
    {
      "cell_type": "code",
      "metadata": {
        "id": "m689yv-h9zcX"
      },
      "source": [
        ""
      ],
      "execution_count": null,
      "outputs": []
    },
    {
      "cell_type": "code",
      "metadata": {
        "id": "YR2unLb79zca"
      },
      "source": [
        ""
      ],
      "execution_count": null,
      "outputs": []
    },
    {
      "cell_type": "code",
      "metadata": {
        "id": "tZnWhhRi9zcb"
      },
      "source": [
        ""
      ],
      "execution_count": null,
      "outputs": []
    },
    {
      "cell_type": "code",
      "metadata": {
        "id": "8phZ3RrN9zce"
      },
      "source": [
        ""
      ],
      "execution_count": null,
      "outputs": []
    },
    {
      "cell_type": "code",
      "metadata": {
        "id": "W53ZxlCy9zcg"
      },
      "source": [
        ""
      ],
      "execution_count": null,
      "outputs": []
    }
  ]
}