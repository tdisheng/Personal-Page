{
  "nbformat": 4,
  "nbformat_minor": 0,
  "metadata": {
    "colab": {
      "name": "Copy of DLDev01 - 01 TF2 - Your first network.ipynb",
      "provenance": [],
      "collapsed_sections": [],
      "include_colab_link": true
    },
    "kernelspec": {
      "name": "python3",
      "display_name": "Python 3"
    },
    "accelerator": "GPU"
  },
  "cells": [
    {
      "cell_type": "markdown",
      "metadata": {
        "id": "view-in-github",
        "colab_type": "text"
      },
      "source": [
        "<a href=\"https://colab.research.google.com/github/tdisheng/Personal-Page/blob/master/Foundations%20of%20Deep%20Learning/Your_first_network.ipynb\" target=\"_parent\"><img src=\"https://colab.research.google.com/assets/colab-badge.svg\" alt=\"Open In Colab\"/></a>"
      ]
    },
    {
      "cell_type": "markdown",
      "metadata": {
        "id": "uOGo9_z8BPsZ"
      },
      "source": [
        "### First we need to download the dependency files \n",
        "\n",
        "This will download, unzip then clean up "
      ]
    },
    {
      "cell_type": "code",
      "metadata": {
        "id": "iLLiDLZWPAEb",
        "colab": {
          "base_uri": "https://localhost:8080/"
        },
        "outputId": "fee9e54b-251c-4b0e-ab14-f38dba48fc5e"
      },
      "source": [
        "# Setup, download, unzip\n",
        "!wget -qq https://www.dropbox.com/s/4wdgtnr4z950hcf/notebook1.zip \n",
        "!unzip -qq notebook1.zip\n",
        "\n",
        "!rm -r __MACOSX\n",
        "\n",
        "!ls"
      ],
      "execution_count": 1,
      "outputs": [
        {
          "output_type": "stream",
          "text": [
            "diagram12.gif  diagram4f.png  diagram6d.png  sample_data  sutils.py\n",
            "diagram3c.gif  diagram5g.png  notebook1.zip  solutions\n"
          ],
          "name": "stdout"
        }
      ]
    },
    {
      "cell_type": "code",
      "metadata": {
        "id": "rrHFpxCvVZMN",
        "colab": {
          "base_uri": "https://localhost:8080/"
        },
        "outputId": "9016a389-cce8-43b0-c32d-8fb237b8bef5"
      },
      "source": [
        "ls"
      ],
      "execution_count": 2,
      "outputs": [
        {
          "output_type": "stream",
          "text": [
            "diagram12.gif  diagram4f.png  diagram6d.png  \u001b[0m\u001b[01;34msample_data\u001b[0m/  sutils.py\n",
            "diagram3c.gif  diagram5g.png  notebook1.zip  \u001b[01;34msolutions\u001b[0m/\n"
          ],
          "name": "stdout"
        }
      ]
    },
    {
      "cell_type": "markdown",
      "metadata": {
        "id": "XIcD18WtNmxl"
      },
      "source": [
        "# 1. Your first tf.keras Network\n",
        "\n"
      ]
    },
    {
      "cell_type": "code",
      "metadata": {
        "id": "k_1Qre6tNmxn"
      },
      "source": [
        "import matplotlib.pyplot as plt\n",
        "\n",
        "import tensorflow as tf\n",
        "\n",
        "from tensorflow.keras.models import Sequential\n",
        "from tensorflow.keras.layers import *\n",
        "from tensorflow.keras.optimizers import SGD\n",
        "\n",
        "from tensorflow.keras.utils import plot_model\n",
        "\n",
        "import numpy as np"
      ],
      "execution_count": 3,
      "outputs": []
    },
    {
      "cell_type": "code",
      "metadata": {
        "id": "fM_7DvDgNmxu",
        "colab": {
          "base_uri": "https://localhost:8080/"
        },
        "outputId": "47acf7ff-1428-4b71-a605-0038fcadbd72"
      },
      "source": [
        "print(tf.keras.__version__)\n",
        "print(tf.__version__)"
      ],
      "execution_count": 4,
      "outputs": [
        {
          "output_type": "stream",
          "text": [
            "2.4.0\n",
            "2.4.1\n"
          ],
          "name": "stdout"
        }
      ]
    },
    {
      "cell_type": "markdown",
      "metadata": {
        "id": "wxb9coc0Nmxy"
      },
      "source": [
        "### Lets import our dataset"
      ]
    },
    {
      "cell_type": "code",
      "metadata": {
        "id": "5M5S2tyXNmxy",
        "colab": {
          "base_uri": "https://localhost:8080/"
        },
        "outputId": "4bd2d9c0-48a0-4697-e07b-3aafc72883cd"
      },
      "source": [
        "from tensorflow.keras.datasets import mnist\n",
        "\n",
        "(x_train, y_train), (x_test, y_test) = mnist.load_data()"
      ],
      "execution_count": 5,
      "outputs": [
        {
          "output_type": "stream",
          "text": [
            "Downloading data from https://storage.googleapis.com/tensorflow/tf-keras-datasets/mnist.npz\n",
            "11493376/11490434 [==============================] - 0s 0us/step\n"
          ],
          "name": "stdout"
        }
      ]
    },
    {
      "cell_type": "code",
      "metadata": {
        "id": "k2fgJd41Nmx1",
        "colab": {
          "base_uri": "https://localhost:8080/"
        },
        "outputId": "8c635628-2fc0-4d6a-a3f7-b64de683458b"
      },
      "source": [
        "print(x_train.shape)\n",
        "print(y_train.shape)\n",
        "print(x_test.shape)\n",
        "print(y_test.shape)"
      ],
      "execution_count": 6,
      "outputs": [
        {
          "output_type": "stream",
          "text": [
            "(60000, 28, 28)\n",
            "(60000,)\n",
            "(10000, 28, 28)\n",
            "(10000,)\n"
          ],
          "name": "stdout"
        }
      ]
    },
    {
      "cell_type": "code",
      "metadata": {
        "id": "acuhLGykNmx4",
        "colab": {
          "base_uri": "https://localhost:8080/"
        },
        "outputId": "76fe3620-393f-442b-9f88-7cde3349ec86"
      },
      "source": [
        "#examine what the first image looks like\n",
        "x_train[0]"
      ],
      "execution_count": 7,
      "outputs": [
        {
          "output_type": "execute_result",
          "data": {
            "text/plain": [
              "array([[  0,   0,   0,   0,   0,   0,   0,   0,   0,   0,   0,   0,   0,\n",
              "          0,   0,   0,   0,   0,   0,   0,   0,   0,   0,   0,   0,   0,\n",
              "          0,   0],\n",
              "       [  0,   0,   0,   0,   0,   0,   0,   0,   0,   0,   0,   0,   0,\n",
              "          0,   0,   0,   0,   0,   0,   0,   0,   0,   0,   0,   0,   0,\n",
              "          0,   0],\n",
              "       [  0,   0,   0,   0,   0,   0,   0,   0,   0,   0,   0,   0,   0,\n",
              "          0,   0,   0,   0,   0,   0,   0,   0,   0,   0,   0,   0,   0,\n",
              "          0,   0],\n",
              "       [  0,   0,   0,   0,   0,   0,   0,   0,   0,   0,   0,   0,   0,\n",
              "          0,   0,   0,   0,   0,   0,   0,   0,   0,   0,   0,   0,   0,\n",
              "          0,   0],\n",
              "       [  0,   0,   0,   0,   0,   0,   0,   0,   0,   0,   0,   0,   0,\n",
              "          0,   0,   0,   0,   0,   0,   0,   0,   0,   0,   0,   0,   0,\n",
              "          0,   0],\n",
              "       [  0,   0,   0,   0,   0,   0,   0,   0,   0,   0,   0,   0,   3,\n",
              "         18,  18,  18, 126, 136, 175,  26, 166, 255, 247, 127,   0,   0,\n",
              "          0,   0],\n",
              "       [  0,   0,   0,   0,   0,   0,   0,   0,  30,  36,  94, 154, 170,\n",
              "        253, 253, 253, 253, 253, 225, 172, 253, 242, 195,  64,   0,   0,\n",
              "          0,   0],\n",
              "       [  0,   0,   0,   0,   0,   0,   0,  49, 238, 253, 253, 253, 253,\n",
              "        253, 253, 253, 253, 251,  93,  82,  82,  56,  39,   0,   0,   0,\n",
              "          0,   0],\n",
              "       [  0,   0,   0,   0,   0,   0,   0,  18, 219, 253, 253, 253, 253,\n",
              "        253, 198, 182, 247, 241,   0,   0,   0,   0,   0,   0,   0,   0,\n",
              "          0,   0],\n",
              "       [  0,   0,   0,   0,   0,   0,   0,   0,  80, 156, 107, 253, 253,\n",
              "        205,  11,   0,  43, 154,   0,   0,   0,   0,   0,   0,   0,   0,\n",
              "          0,   0],\n",
              "       [  0,   0,   0,   0,   0,   0,   0,   0,   0,  14,   1, 154, 253,\n",
              "         90,   0,   0,   0,   0,   0,   0,   0,   0,   0,   0,   0,   0,\n",
              "          0,   0],\n",
              "       [  0,   0,   0,   0,   0,   0,   0,   0,   0,   0,   0, 139, 253,\n",
              "        190,   2,   0,   0,   0,   0,   0,   0,   0,   0,   0,   0,   0,\n",
              "          0,   0],\n",
              "       [  0,   0,   0,   0,   0,   0,   0,   0,   0,   0,   0,  11, 190,\n",
              "        253,  70,   0,   0,   0,   0,   0,   0,   0,   0,   0,   0,   0,\n",
              "          0,   0],\n",
              "       [  0,   0,   0,   0,   0,   0,   0,   0,   0,   0,   0,   0,  35,\n",
              "        241, 225, 160, 108,   1,   0,   0,   0,   0,   0,   0,   0,   0,\n",
              "          0,   0],\n",
              "       [  0,   0,   0,   0,   0,   0,   0,   0,   0,   0,   0,   0,   0,\n",
              "         81, 240, 253, 253, 119,  25,   0,   0,   0,   0,   0,   0,   0,\n",
              "          0,   0],\n",
              "       [  0,   0,   0,   0,   0,   0,   0,   0,   0,   0,   0,   0,   0,\n",
              "          0,  45, 186, 253, 253, 150,  27,   0,   0,   0,   0,   0,   0,\n",
              "          0,   0],\n",
              "       [  0,   0,   0,   0,   0,   0,   0,   0,   0,   0,   0,   0,   0,\n",
              "          0,   0,  16,  93, 252, 253, 187,   0,   0,   0,   0,   0,   0,\n",
              "          0,   0],\n",
              "       [  0,   0,   0,   0,   0,   0,   0,   0,   0,   0,   0,   0,   0,\n",
              "          0,   0,   0,   0, 249, 253, 249,  64,   0,   0,   0,   0,   0,\n",
              "          0,   0],\n",
              "       [  0,   0,   0,   0,   0,   0,   0,   0,   0,   0,   0,   0,   0,\n",
              "          0,  46, 130, 183, 253, 253, 207,   2,   0,   0,   0,   0,   0,\n",
              "          0,   0],\n",
              "       [  0,   0,   0,   0,   0,   0,   0,   0,   0,   0,   0,   0,  39,\n",
              "        148, 229, 253, 253, 253, 250, 182,   0,   0,   0,   0,   0,   0,\n",
              "          0,   0],\n",
              "       [  0,   0,   0,   0,   0,   0,   0,   0,   0,   0,  24, 114, 221,\n",
              "        253, 253, 253, 253, 201,  78,   0,   0,   0,   0,   0,   0,   0,\n",
              "          0,   0],\n",
              "       [  0,   0,   0,   0,   0,   0,   0,   0,  23,  66, 213, 253, 253,\n",
              "        253, 253, 198,  81,   2,   0,   0,   0,   0,   0,   0,   0,   0,\n",
              "          0,   0],\n",
              "       [  0,   0,   0,   0,   0,   0,  18, 171, 219, 253, 253, 253, 253,\n",
              "        195,  80,   9,   0,   0,   0,   0,   0,   0,   0,   0,   0,   0,\n",
              "          0,   0],\n",
              "       [  0,   0,   0,   0,  55, 172, 226, 253, 253, 253, 253, 244, 133,\n",
              "         11,   0,   0,   0,   0,   0,   0,   0,   0,   0,   0,   0,   0,\n",
              "          0,   0],\n",
              "       [  0,   0,   0,   0, 136, 253, 253, 253, 212, 135, 132,  16,   0,\n",
              "          0,   0,   0,   0,   0,   0,   0,   0,   0,   0,   0,   0,   0,\n",
              "          0,   0],\n",
              "       [  0,   0,   0,   0,   0,   0,   0,   0,   0,   0,   0,   0,   0,\n",
              "          0,   0,   0,   0,   0,   0,   0,   0,   0,   0,   0,   0,   0,\n",
              "          0,   0],\n",
              "       [  0,   0,   0,   0,   0,   0,   0,   0,   0,   0,   0,   0,   0,\n",
              "          0,   0,   0,   0,   0,   0,   0,   0,   0,   0,   0,   0,   0,\n",
              "          0,   0],\n",
              "       [  0,   0,   0,   0,   0,   0,   0,   0,   0,   0,   0,   0,   0,\n",
              "          0,   0,   0,   0,   0,   0,   0,   0,   0,   0,   0,   0,   0,\n",
              "          0,   0]], dtype=uint8)"
            ]
          },
          "metadata": {
            "tags": []
          },
          "execution_count": 7
        }
      ]
    },
    {
      "cell_type": "code",
      "metadata": {
        "id": "vvDsyrZLNmx8",
        "colab": {
          "base_uri": "https://localhost:8080/"
        },
        "outputId": "8ab2ca27-0b80-4b1e-ead2-fa8dbf50ad2b"
      },
      "source": [
        "y_train[0]"
      ],
      "execution_count": 8,
      "outputs": [
        {
          "output_type": "execute_result",
          "data": {
            "text/plain": [
              "5"
            ]
          },
          "metadata": {
            "tags": []
          },
          "execution_count": 8
        }
      ]
    },
    {
      "cell_type": "code",
      "metadata": {
        "id": "PNxv7rTCp46Y",
        "colab": {
          "base_uri": "https://localhost:8080/"
        },
        "outputId": "3f3e27b9-ecb9-4488-9c07-627b2635dd7e"
      },
      "source": [
        "!ls\n",
        "from IPython.display import Image"
      ],
      "execution_count": 9,
      "outputs": [
        {
          "output_type": "stream",
          "text": [
            "diagram12.gif  diagram4f.png  diagram6d.png  sample_data  sutils.py\n",
            "diagram3c.gif  diagram5g.png  notebook1.zip  solutions\n"
          ],
          "name": "stdout"
        }
      ]
    },
    {
      "cell_type": "markdown",
      "metadata": {
        "id": "R5kYSPfhNmx_"
      },
      "source": [
        "## What is a Tensor\n",
        "\n",
        "\n",
        "multi dimensional array/matrix"
      ]
    },
    {
      "cell_type": "code",
      "metadata": {
        "id": "uL_JbHwUqCTu",
        "colab": {
          "base_uri": "https://localhost:8080/",
          "height": 544
        },
        "outputId": "2175941e-787c-4f3a-c914-6416516bafe6"
      },
      "source": [
        "Image('./diagram5g.png', width=800)"
      ],
      "execution_count": 10,
      "outputs": [
        {
          "output_type": "execute_result",
          "data": {
            "image/png": "[encoded data removed]",
            "text/plain": [
              "<IPython.core.display.Image object>"
            ]
          },
          "metadata": {
            "tags": [],
            "image/png": {
              "width": 800
            }
          },
          "execution_count": 10
        }
      ]
    },
    {
      "cell_type": "markdown",
      "metadata": {
        "id": "BLvwLUFeNmyB"
      },
      "source": [
        "### MNIST Image Tensor X_train\n",
        "\n"
      ]
    },
    {
      "cell_type": "code",
      "metadata": {
        "id": "oFhYuabDqdcC",
        "colab": {
          "base_uri": "https://localhost:8080/",
          "height": 430
        },
        "outputId": "255f1553-bc6b-4329-bedb-8b9c0d0152b3"
      },
      "source": [
        "Image('./diagram4f.png', width=550)"
      ],
      "execution_count": 11,
      "outputs": [
        {
          "output_type": "execute_result",
          "data": {
            "image/png": "[encoded data removed]",
            "text/plain": [
              "<IPython.core.display.Image object>"
            ]
          },
          "metadata": {
            "tags": [],
            "image/png": {
              "width": 550
            }
          },
          "execution_count": 11
        }
      ]
    },
    {
      "cell_type": "code",
      "metadata": {
        "id": "khjA4tS0qqf9",
        "colab": {
          "base_uri": "https://localhost:8080/",
          "height": 256
        },
        "outputId": "2632fd66-0a3d-4a71-f63e-13a52d210b1c"
      },
      "source": [
        "Image('./diagram6d.png', width=550)"
      ],
      "execution_count": 12,
      "outputs": [
        {
          "output_type": "execute_result",
          "data": {
            "image/png": "[encoded data removed]",
            "text/plain": [
              "<IPython.core.display.Image object>"
            ]
          },
          "metadata": {
            "tags": [],
            "image/png": {
              "width": 550
            }
          },
          "execution_count": 12
        }
      ]
    },
    {
      "cell_type": "markdown",
      "metadata": {
        "id": "POZyY3LdNmyC"
      },
      "source": [
        "## Preparing the data for a basic network"
      ]
    },
    {
      "cell_type": "code",
      "metadata": {
        "id": "HidFOFL0NmyD",
        "colab": {
          "base_uri": "https://localhost:8080/"
        },
        "outputId": "835fd8ab-d1af-4366-d2a8-b556b54a1f04"
      },
      "source": [
        "# changing the shape of our data to be flat vectors instead of matrices\n",
        "x_train = x_train.reshape(60000, 784)\n",
        "x_test = x_test.reshape(10000, 784)\n",
        "\n",
        "#Converting the ints to float for floating point math\n",
        "x_train = x_train.astype('float32')\n",
        "x_test = x_test.astype('float32')\n",
        "\n",
        "# Standardizing the data to be between 0-1 --- Be careful to only do this once\n",
        "x_train /= 255\n",
        "x_test /= 255\n",
        "\n",
        "\n",
        "print(x_train.shape, 'train samples')\n",
        "print(x_test.shape, 'test samples')"
      ],
      "execution_count": 13,
      "outputs": [
        {
          "output_type": "stream",
          "text": [
            "(60000, 784) train samples\n",
            "(10000, 784) test samples\n"
          ],
          "name": "stdout"
        }
      ]
    },
    {
      "cell_type": "code",
      "metadata": {
        "id": "kCmz91ELpO6Y",
        "colab": {
          "base_uri": "https://localhost:8080/"
        },
        "outputId": "fdcc55b8-599c-41d0-8f6f-6e0178ab751a"
      },
      "source": [
        "x_train[0]"
      ],
      "execution_count": 14,
      "outputs": [
        {
          "output_type": "execute_result",
          "data": {
            "text/plain": [
              "array([0.        , 0.        , 0.        , 0.        , 0.        ,\n",
              "       0.        , 0.        , 0.        , 0.        , 0.        ,\n",
              "       0.        , 0.        , 0.        , 0.        , 0.        ,\n",
              "       0.        , 0.        , 0.        , 0.        , 0.        ,\n",
              "       0.        , 0.        , 0.        , 0.        , 0.        ,\n",
              "       0.        , 0.        , 0.        , 0.        , 0.        ,\n",
              "       0.        , 0.        , 0.        , 0.        , 0.        ,\n",
              "       0.        , 0.        , 0.        , 0.        , 0.        ,\n",
              "       0.        , 0.        , 0.        , 0.        , 0.        ,\n",
              "       0.        , 0.        , 0.        , 0.        , 0.        ,\n",
              "       0.        , 0.        , 0.        , 0.        , 0.        ,\n",
              "       0.        , 0.        , 0.        , 0.        , 0.        ,\n",
              "       0.        , 0.        , 0.        , 0.        , 0.        ,\n",
              "       0.        , 0.        , 0.        , 0.        , 0.        ,\n",
              "       0.        , 0.        , 0.        , 0.        , 0.        ,\n",
              "       0.        , 0.        , 0.        , 0.        , 0.        ,\n",
              "       0.        , 0.        , 0.        , 0.        , 0.        ,\n",
              "       0.        , 0.        , 0.        , 0.        , 0.        ,\n",
              "       0.        , 0.        , 0.        , 0.        , 0.        ,\n",
              "       0.        , 0.        , 0.        , 0.        , 0.        ,\n",
              "       0.        , 0.        , 0.        , 0.        , 0.        ,\n",
              "       0.        , 0.        , 0.        , 0.        , 0.        ,\n",
              "       0.        , 0.        , 0.        , 0.        , 0.        ,\n",
              "       0.        , 0.        , 0.        , 0.        , 0.        ,\n",
              "       0.        , 0.        , 0.        , 0.        , 0.        ,\n",
              "       0.        , 0.        , 0.        , 0.        , 0.        ,\n",
              "       0.        , 0.        , 0.        , 0.        , 0.        ,\n",
              "       0.        , 0.        , 0.        , 0.        , 0.        ,\n",
              "       0.        , 0.        , 0.        , 0.        , 0.        ,\n",
              "       0.        , 0.        , 0.        , 0.        , 0.        ,\n",
              "       0.        , 0.        , 0.01176471, 0.07058824, 0.07058824,\n",
              "       0.07058824, 0.49411765, 0.53333336, 0.6862745 , 0.10196079,\n",
              "       0.6509804 , 1.        , 0.96862745, 0.49803922, 0.        ,\n",
              "       0.        , 0.        , 0.        , 0.        , 0.        ,\n",
              "       0.        , 0.        , 0.        , 0.        , 0.        ,\n",
              "       0.        , 0.11764706, 0.14117648, 0.36862746, 0.6039216 ,\n",
              "       0.6666667 , 0.99215686, 0.99215686, 0.99215686, 0.99215686,\n",
              "       0.99215686, 0.88235295, 0.6745098 , 0.99215686, 0.9490196 ,\n",
              "       0.7647059 , 0.2509804 , 0.        , 0.        , 0.        ,\n",
              "       0.        , 0.        , 0.        , 0.        , 0.        ,\n",
              "       0.        , 0.        , 0.        , 0.19215687, 0.93333334,\n",
              "       0.99215686, 0.99215686, 0.99215686, 0.99215686, 0.99215686,\n",
              "       0.99215686, 0.99215686, 0.99215686, 0.9843137 , 0.3647059 ,\n",
              "       0.32156864, 0.32156864, 0.21960784, 0.15294118, 0.        ,\n",
              "       0.        , 0.        , 0.        , 0.        , 0.        ,\n",
              "       0.        , 0.        , 0.        , 0.        , 0.        ,\n",
              "       0.        , 0.07058824, 0.85882354, 0.99215686, 0.99215686,\n",
              "       0.99215686, 0.99215686, 0.99215686, 0.7764706 , 0.7137255 ,\n",
              "       0.96862745, 0.94509804, 0.        , 0.        , 0.        ,\n",
              "       0.        , 0.        , 0.        , 0.        , 0.        ,\n",
              "       0.        , 0.        , 0.        , 0.        , 0.        ,\n",
              "       0.        , 0.        , 0.        , 0.        , 0.        ,\n",
              "       0.3137255 , 0.6117647 , 0.41960785, 0.99215686, 0.99215686,\n",
              "       0.8039216 , 0.04313726, 0.        , 0.16862746, 0.6039216 ,\n",
              "       0.        , 0.        , 0.        , 0.        , 0.        ,\n",
              "       0.        , 0.        , 0.        , 0.        , 0.        ,\n",
              "       0.        , 0.        , 0.        , 0.        , 0.        ,\n",
              "       0.        , 0.        , 0.        , 0.        , 0.05490196,\n",
              "       0.00392157, 0.6039216 , 0.99215686, 0.3529412 , 0.        ,\n",
              "       0.        , 0.        , 0.        , 0.        , 0.        ,\n",
              "       0.        , 0.        , 0.        , 0.        , 0.        ,\n",
              "       0.        , 0.        , 0.        , 0.        , 0.        ,\n",
              "       0.        , 0.        , 0.        , 0.        , 0.        ,\n",
              "       0.        , 0.        , 0.        , 0.        , 0.54509807,\n",
              "       0.99215686, 0.74509805, 0.00784314, 0.        , 0.        ,\n",
              "       0.        , 0.        , 0.        , 0.        , 0.        ,\n",
              "       0.        , 0.        , 0.        , 0.        , 0.        ,\n",
              "       0.        , 0.        , 0.        , 0.        , 0.        ,\n",
              "       0.        , 0.        , 0.        , 0.        , 0.        ,\n",
              "       0.        , 0.        , 0.04313726, 0.74509805, 0.99215686,\n",
              "       0.27450982, 0.        , 0.        , 0.        , 0.        ,\n",
              "       0.        , 0.        , 0.        , 0.        , 0.        ,\n",
              "       0.        , 0.        , 0.        , 0.        , 0.        ,\n",
              "       0.        , 0.        , 0.        , 0.        , 0.        ,\n",
              "       0.        , 0.        , 0.        , 0.        , 0.        ,\n",
              "       0.        , 0.13725491, 0.94509804, 0.88235295, 0.627451  ,\n",
              "       0.42352942, 0.00392157, 0.        , 0.        , 0.        ,\n",
              "       0.        , 0.        , 0.        , 0.        , 0.        ,\n",
              "       0.        , 0.        , 0.        , 0.        , 0.        ,\n",
              "       0.        , 0.        , 0.        , 0.        , 0.        ,\n",
              "       0.        , 0.        , 0.        , 0.        , 0.        ,\n",
              "       0.31764707, 0.9411765 , 0.99215686, 0.99215686, 0.46666667,\n",
              "       0.09803922, 0.        , 0.        , 0.        , 0.        ,\n",
              "       0.        , 0.        , 0.        , 0.        , 0.        ,\n",
              "       0.        , 0.        , 0.        , 0.        , 0.        ,\n",
              "       0.        , 0.        , 0.        , 0.        , 0.        ,\n",
              "       0.        , 0.        , 0.        , 0.        , 0.1764706 ,\n",
              "       0.7294118 , 0.99215686, 0.99215686, 0.5882353 , 0.10588235,\n",
              "       0.        , 0.        , 0.        , 0.        , 0.        ,\n",
              "       0.        , 0.        , 0.        , 0.        , 0.        ,\n",
              "       0.        , 0.        , 0.        , 0.        , 0.        ,\n",
              "       0.        , 0.        , 0.        , 0.        , 0.        ,\n",
              "       0.        , 0.        , 0.        , 0.0627451 , 0.3647059 ,\n",
              "       0.9882353 , 0.99215686, 0.73333335, 0.        , 0.        ,\n",
              "       0.        , 0.        , 0.        , 0.        , 0.        ,\n",
              "       0.        , 0.        , 0.        , 0.        , 0.        ,\n",
              "       0.        , 0.        , 0.        , 0.        , 0.        ,\n",
              "       0.        , 0.        , 0.        , 0.        , 0.        ,\n",
              "       0.        , 0.        , 0.        , 0.9764706 , 0.99215686,\n",
              "       0.9764706 , 0.2509804 , 0.        , 0.        , 0.        ,\n",
              "       0.        , 0.        , 0.        , 0.        , 0.        ,\n",
              "       0.        , 0.        , 0.        , 0.        , 0.        ,\n",
              "       0.        , 0.        , 0.        , 0.        , 0.        ,\n",
              "       0.        , 0.        , 0.        , 0.18039216, 0.50980395,\n",
              "       0.7176471 , 0.99215686, 0.99215686, 0.8117647 , 0.00784314,\n",
              "       0.        , 0.        , 0.        , 0.        , 0.        ,\n",
              "       0.        , 0.        , 0.        , 0.        , 0.        ,\n",
              "       0.        , 0.        , 0.        , 0.        , 0.        ,\n",
              "       0.        , 0.        , 0.        , 0.        , 0.15294118,\n",
              "       0.5803922 , 0.8980392 , 0.99215686, 0.99215686, 0.99215686,\n",
              "       0.98039216, 0.7137255 , 0.        , 0.        , 0.        ,\n",
              "       0.        , 0.        , 0.        , 0.        , 0.        ,\n",
              "       0.        , 0.        , 0.        , 0.        , 0.        ,\n",
              "       0.        , 0.        , 0.        , 0.        , 0.        ,\n",
              "       0.09411765, 0.44705883, 0.8666667 , 0.99215686, 0.99215686,\n",
              "       0.99215686, 0.99215686, 0.7882353 , 0.30588236, 0.        ,\n",
              "       0.        , 0.        , 0.        , 0.        , 0.        ,\n",
              "       0.        , 0.        , 0.        , 0.        , 0.        ,\n",
              "       0.        , 0.        , 0.        , 0.        , 0.        ,\n",
              "       0.        , 0.09019608, 0.25882354, 0.8352941 , 0.99215686,\n",
              "       0.99215686, 0.99215686, 0.99215686, 0.7764706 , 0.31764707,\n",
              "       0.00784314, 0.        , 0.        , 0.        , 0.        ,\n",
              "       0.        , 0.        , 0.        , 0.        , 0.        ,\n",
              "       0.        , 0.        , 0.        , 0.        , 0.        ,\n",
              "       0.        , 0.        , 0.07058824, 0.67058825, 0.85882354,\n",
              "       0.99215686, 0.99215686, 0.99215686, 0.99215686, 0.7647059 ,\n",
              "       0.3137255 , 0.03529412, 0.        , 0.        , 0.        ,\n",
              "       0.        , 0.        , 0.        , 0.        , 0.        ,\n",
              "       0.        , 0.        , 0.        , 0.        , 0.        ,\n",
              "       0.        , 0.        , 0.        , 0.21568628, 0.6745098 ,\n",
              "       0.8862745 , 0.99215686, 0.99215686, 0.99215686, 0.99215686,\n",
              "       0.95686275, 0.52156866, 0.04313726, 0.        , 0.        ,\n",
              "       0.        , 0.        , 0.        , 0.        , 0.        ,\n",
              "       0.        , 0.        , 0.        , 0.        , 0.        ,\n",
              "       0.        , 0.        , 0.        , 0.        , 0.        ,\n",
              "       0.        , 0.53333336, 0.99215686, 0.99215686, 0.99215686,\n",
              "       0.83137256, 0.5294118 , 0.5176471 , 0.0627451 , 0.        ,\n",
              "       0.        , 0.        , 0.        , 0.        , 0.        ,\n",
              "       0.        , 0.        , 0.        , 0.        , 0.        ,\n",
              "       0.        , 0.        , 0.        , 0.        , 0.        ,\n",
              "       0.        , 0.        , 0.        , 0.        , 0.        ,\n",
              "       0.        , 0.        , 0.        , 0.        , 0.        ,\n",
              "       0.        , 0.        , 0.        , 0.        , 0.        ,\n",
              "       0.        , 0.        , 0.        , 0.        , 0.        ,\n",
              "       0.        , 0.        , 0.        , 0.        , 0.        ,\n",
              "       0.        , 0.        , 0.        , 0.        , 0.        ,\n",
              "       0.        , 0.        , 0.        , 0.        , 0.        ,\n",
              "       0.        , 0.        , 0.        , 0.        , 0.        ,\n",
              "       0.        , 0.        , 0.        , 0.        , 0.        ,\n",
              "       0.        , 0.        , 0.        , 0.        , 0.        ,\n",
              "       0.        , 0.        , 0.        , 0.        , 0.        ,\n",
              "       0.        , 0.        , 0.        , 0.        , 0.        ,\n",
              "       0.        , 0.        , 0.        , 0.        , 0.        ,\n",
              "       0.        , 0.        , 0.        , 0.        , 0.        ,\n",
              "       0.        , 0.        , 0.        , 0.        , 0.        ,\n",
              "       0.        , 0.        , 0.        , 0.        , 0.        ,\n",
              "       0.        , 0.        , 0.        , 0.        ], dtype=float32)"
            ]
          },
          "metadata": {
            "tags": []
          },
          "execution_count": 14
        }
      ]
    },
    {
      "cell_type": "code",
      "metadata": {
        "id": "IDK4OCeGg5GO",
        "colab": {
          "base_uri": "https://localhost:8080/"
        },
        "outputId": "7207e011-1bc0-4cb2-a0c4-bc5c7da034bf"
      },
      "source": [
        "y_train[0]"
      ],
      "execution_count": 15,
      "outputs": [
        {
          "output_type": "execute_result",
          "data": {
            "text/plain": [
              "5"
            ]
          },
          "metadata": {
            "tags": []
          },
          "execution_count": 15
        }
      ]
    },
    {
      "cell_type": "markdown",
      "metadata": {
        "id": "r_Id8gWY7khO"
      },
      "source": [
        "### Making One Hot Encoded vectors"
      ]
    },
    {
      "cell_type": "code",
      "metadata": {
        "id": "mPp_BP8vNmyH"
      },
      "source": [
        "n_classes = 10\n",
        "\n",
        "# Convert Class Scalars to  One Hot Encoded vectors\n",
        "y_train = tf.keras.utils.to_categorical(y_train, n_classes)\n",
        "y_test = tf.keras.utils.to_categorical(y_test, n_classes)"
      ],
      "execution_count": 16,
      "outputs": []
    },
    {
      "cell_type": "code",
      "metadata": {
        "id": "c9PhK9dLjweH",
        "colab": {
          "base_uri": "https://localhost:8080/"
        },
        "outputId": "627fd21e-03fd-4f21-8045-c3b6b59dff47"
      },
      "source": [
        "y_train[0]"
      ],
      "execution_count": 17,
      "outputs": [
        {
          "output_type": "execute_result",
          "data": {
            "text/plain": [
              "array([0., 0., 0., 0., 0., 1., 0., 0., 0., 0.], dtype=float32)"
            ]
          },
          "metadata": {
            "tags": []
          },
          "execution_count": 17
        }
      ]
    },
    {
      "cell_type": "code",
      "metadata": {
        "id": "sqYyCMsrAnpD",
        "colab": {
          "base_uri": "https://localhost:8080/"
        },
        "outputId": "decd2189-f344-41da-e5c6-c9620affce9d"
      },
      "source": [
        "# lets check our tensor shape\n",
        "y_train.shape"
      ],
      "execution_count": 18,
      "outputs": [
        {
          "output_type": "execute_result",
          "data": {
            "text/plain": [
              "(60000, 10)"
            ]
          },
          "metadata": {
            "tags": []
          },
          "execution_count": 18
        }
      ]
    },
    {
      "cell_type": "markdown",
      "metadata": {
        "id": "sL0OvijO7vLL"
      },
      "source": [
        "## Plotting some examples"
      ]
    },
    {
      "cell_type": "code",
      "metadata": {
        "id": "Of2F2HTENmyL",
        "colab": {
          "base_uri": "https://localhost:8080/",
          "height": 809
        },
        "outputId": "cd9da9a9-9298-4d31-e699-483de86274fd"
      },
      "source": [
        "# Method for displaying the number as a picture\n",
        "\n",
        "def show_digit(index):\n",
        "    label = y_train[index].argmax(axis=0)\n",
        "    # Reshape 784 array into 28x28 image\n",
        "    image = x_train[index].reshape([28,28])\n",
        "    fig, axes = plt.subplots(1, )\n",
        "    fig.subplots_adjust(hspace=0.5, wspace=0.5)\n",
        "    plt.title('Training data, index: %d,  Label: %d' % (index, label))\n",
        "    plt.imshow(image, cmap='gray_r')\n",
        "    plt.show()\n",
        "    \n",
        "def show_predicted_digit(image, pred, label):\n",
        "    # Reshape 784 array into 28x28 image\n",
        "    image = image.reshape([28,28])\n",
        "    plt.title('Original Image, Pred: %d,  True Label: %d' %(pred, label))\n",
        "    plt.imshow(image, cmap='gray_r')\n",
        "    plt.show()\n",
        "    \n",
        "# Display the first (index 0) training image\n",
        "show_digit(0)\n",
        "show_digit(2)\n",
        "show_digit(3)"
      ],
      "execution_count": 19,
      "outputs": [
        {
          "output_type": "display_data",
          "data": {
            "image/png": "[encoded data removed]",
            "text/plain": [
              "<Figure size 432x288 with 1 Axes>"
            ]
          },
          "metadata": {
            "tags": [],
            "needs_background": "light"
          }
        },
        {
          "output_type": "display_data",
          "data": {
            "image/png": "[encoded data removed]",
            "text/plain": [
              "<Figure size 432x288 with 1 Axes>"
            ]
          },
          "metadata": {
            "tags": [],
            "needs_background": "light"
          }
        },
        {
          "output_type": "display_data",
          "data": {
            "image/png": "[encoded data removed]",
            "text/plain": [
              "<Figure size 432x288 with 1 Axes>"
            ]
          },
          "metadata": {
            "tags": [],
            "needs_background": "light"
          }
        }
      ]
    },
    {
      "cell_type": "markdown",
      "metadata": {
        "id": "a-AnbuBQNmyO"
      },
      "source": [
        "### Setting up our Network Hyper Parameters"
      ]
    },
    {
      "cell_type": "code",
      "metadata": {
        "id": "xZBW2RWdNmyP"
      },
      "source": [
        "# Training Parameters for basic MNIST\n",
        "learning_rate = 0.001 # controls how much to change the model in response to the estimated error each time the model weights are updated\n",
        "training_epochs = 10 # number of epochs is the number of complete passes through the training dataset\n",
        "batch_size = 100 # How many pictures to look at at one time, normally determined by how good your GPU is\n",
        "\n",
        "# Network Parameters\n",
        "n_input = 784 ## MNIST data input (img shape: 28*28 flattened to be 784)\n",
        "n_hidden_1 =  384 # 1st layer number of neurons\n",
        "n_hidden_2 = 100 # 2nd layer number of neurons\n",
        "n_classes = 10 # MNIST classes for prediction(digits 0-9 )"
      ],
      "execution_count": 20,
      "outputs": []
    },
    {
      "cell_type": "markdown",
      "metadata": {
        "id": "hHqVX5SaNmyS"
      },
      "source": [
        "## Lets build our first sequential network\n",
        "\n",
        "We start out by defining our model as a sequential one  \n",
        "\n",
        "Then we add 2 Dense layers  \n",
        "In each Dense layer we have to define the number of hidden units/neurons for that layer  \n",
        "We can also add a name to each layer so that we can see it easily in our summary and later in Tensorboard\n"
      ]
    },
    {
      "cell_type": "code",
      "metadata": {
        "id": "zQmvPtBZNmyS"
      },
      "source": [
        "model = Sequential(name='basic_model_01')\n",
        "model.add(Dense(n_hidden_1,  input_shape=(n_input,),activation='relu', name = \"Dense_1\"))\n",
        "model.add(Dense(n_hidden_2, activation='relu', name = \"Dense_2\"))\n",
        "model.add(Dense(n_classes, activation='softmax', name = \"Output\"))\n"
      ],
      "execution_count": 21,
      "outputs": []
    },
    {
      "cell_type": "code",
      "metadata": {
        "id": "1f2VuJU6NmyW",
        "colab": {
          "base_uri": "https://localhost:8080/"
        },
        "outputId": "cb03eb76-247e-4c33-a330-f96634a32d65"
      },
      "source": [
        "model.summary()"
      ],
      "execution_count": 22,
      "outputs": [
        {
          "output_type": "stream",
          "text": [
            "Model: \"basic_model_01\"\n",
            "_________________________________________________________________\n",
            "Layer (type)                 Output Shape              Param #   \n",
            "=================================================================\n",
            "Dense_1 (Dense)              (None, 384)               301440    \n",
            "_________________________________________________________________\n",
            "Dense_2 (Dense)              (None, 100)               38500     \n",
            "_________________________________________________________________\n",
            "Output (Dense)               (None, 10)                1010      \n",
            "=================================================================\n",
            "Total params: 340,950\n",
            "Trainable params: 340,950\n",
            "Non-trainable params: 0\n",
            "_________________________________________________________________\n"
          ],
          "name": "stdout"
        }
      ]
    },
    {
      "cell_type": "markdown",
      "metadata": {
        "id": "iwS8l5y1NmyY"
      },
      "source": [
        "### Lets calculate the the parameters\n",
        "\n",
        "layer 1 = (384 units * 784 weights) + (384 units * 1 bias)  = 301,440  \n",
        "\n",
        "layer 2 = (100 units * 384 weights) + (100 units * 1 bias)  = 38,500  \n",
        "\n",
        "layer 3 = (10 units * 100) +(10 units * bias)\n",
        "\n"
      ]
    },
    {
      "cell_type": "code",
      "metadata": {
        "id": "R4Z0rDMDF7fV",
        "colab": {
          "base_uri": "https://localhost:8080/",
          "height": 369
        },
        "outputId": "e3ce020d-60d5-456e-a0fb-14c6bef88596"
      },
      "source": [
        "plot_model(model, to_file=\"first_model.png\")"
      ],
      "execution_count": 23,
      "outputs": [
        {
          "output_type": "execute_result",
          "data": {
            "image/png": "[encoded data removed]",
            "text/plain": [
              "<IPython.core.display.Image object>"
            ]
          },
          "metadata": {
            "tags": []
          },
          "execution_count": 23
        }
      ]
    },
    {
      "cell_type": "markdown",
      "metadata": {
        "id": "DcHeS0bV4UFs"
      },
      "source": [
        "## Create the optimizer and compile the graph"
      ]
    },
    {
      "cell_type": "code",
      "metadata": {
        "id": "byBwbrt63mGa"
      },
      "source": [
        "opt = SGD(lr=learning_rate)"
      ],
      "execution_count": 24,
      "outputs": []
    },
    {
      "cell_type": "markdown",
      "metadata": {
        "id": "xOEs-Yr1IpCv"
      },
      "source": [
        ""
      ]
    },
    {
      "cell_type": "code",
      "metadata": {
        "id": "Lkfy43l2NmyZ"
      },
      "source": [
        "model.compile(loss='categorical_crossentropy',\n",
        "              optimizer= opt,\n",
        "              metrics=['accuracy'])"
      ],
      "execution_count": 25,
      "outputs": []
    },
    {
      "cell_type": "markdown",
      "metadata": {
        "id": "DdpKtFyR4hCn"
      },
      "source": [
        "## Training time\n",
        "\n",
        "we fit the model using the data we pass in to it \n",
        "\n",
        "AKA training the model"
      ]
    },
    {
      "cell_type": "code",
      "metadata": {
        "id": "NzlA7b1sNmyc",
        "colab": {
          "base_uri": "https://localhost:8080/"
        },
        "outputId": "57472c3d-f524-471c-d689-70d16bdbc398"
      },
      "source": [
        "history = model.fit(x_train, y_train,\n",
        "                    batch_size=batch_size,\n",
        "                    epochs=10,\n",
        "                    verbose=1,\n",
        "                    validation_data=(x_test, y_test))\n",
        "# val_accuracy refers to validation set"
      ],
      "execution_count": 26,
      "outputs": [
        {
          "output_type": "stream",
          "text": [
            "Epoch 1/10\n",
            "600/600 [==============================] - 5s 3ms/step - loss: 2.1604 - accuracy: 0.2978 - val_loss: 1.7942 - val_accuracy: 0.6033\n",
            "Epoch 2/10\n",
            "600/600 [==============================] - 1s 2ms/step - loss: 1.6891 - accuracy: 0.6374 - val_loss: 1.3565 - val_accuracy: 0.7199\n",
            "Epoch 3/10\n",
            "600/600 [==============================] - 1s 2ms/step - loss: 1.2864 - accuracy: 0.7300 - val_loss: 1.0352 - val_accuracy: 0.7781\n",
            "Epoch 4/10\n",
            "600/600 [==============================] - 1s 2ms/step - loss: 0.9980 - accuracy: 0.7835 - val_loss: 0.8323 - val_accuracy: 0.8190\n",
            "Epoch 5/10\n",
            "600/600 [==============================] - 2s 3ms/step - loss: 0.8171 - accuracy: 0.8174 - val_loss: 0.7053 - val_accuracy: 0.8356\n",
            "Epoch 6/10\n",
            "600/600 [==============================] - 1s 2ms/step - loss: 0.7026 - accuracy: 0.8370 - val_loss: 0.6206 - val_accuracy: 0.8522\n",
            "Epoch 7/10\n",
            "600/600 [==============================] - 1s 2ms/step - loss: 0.6235 - accuracy: 0.8514 - val_loss: 0.5608 - val_accuracy: 0.8636\n",
            "Epoch 8/10\n",
            "600/600 [==============================] - 1s 2ms/step - loss: 0.5739 - accuracy: 0.8578 - val_loss: 0.5172 - val_accuracy: 0.8704\n",
            "Epoch 9/10\n",
            "600/600 [==============================] - 1s 2ms/step - loss: 0.5335 - accuracy: 0.8652 - val_loss: 0.4830 - val_accuracy: 0.8773\n",
            "Epoch 10/10\n",
            "600/600 [==============================] - 1s 2ms/step - loss: 0.5045 - accuracy: 0.8703 - val_loss: 0.4565 - val_accuracy: 0.8813\n"
          ],
          "name": "stdout"
        }
      ]
    },
    {
      "cell_type": "code",
      "metadata": {
        "id": "-DLoLeN5Nmyf",
        "colab": {
          "base_uri": "https://localhost:8080/"
        },
        "outputId": "6f5c2476-d9dc-4484-b0e2-da3d83daa36c"
      },
      "source": [
        "score = model.evaluate(x_test, y_test, verbose=0)\n",
        "print('Test loss:', score[0])\n",
        "print('Test accuracy:', score[1])"
      ],
      "execution_count": 27,
      "outputs": [
        {
          "output_type": "stream",
          "text": [
            "Test loss: 0.45646902918815613\n",
            "Test accuracy: 0.8812999725341797\n"
          ],
          "name": "stdout"
        }
      ]
    },
    {
      "cell_type": "code",
      "metadata": {
        "id": "4gaVOHMsNmyi",
        "colab": {
          "base_uri": "https://localhost:8080/"
        },
        "outputId": "a0ffc895-d922-40ee-d371-f8899230026e"
      },
      "source": [
        "history.history"
      ],
      "execution_count": 28,
      "outputs": [
        {
          "output_type": "execute_result",
          "data": {
            "text/plain": [
              "{'accuracy': [0.4131166636943817,\n",
              "  0.6669333577156067,\n",
              "  0.7467666864395142,\n",
              "  0.7933833599090576,\n",
              "  0.8218333125114441,\n",
              "  0.8395666480064392,\n",
              "  0.8518333435058594,\n",
              "  0.8611500263214111,\n",
              "  0.8681333065032959,\n",
              "  0.8733333349227905],\n",
              " 'loss': [2.0393729209899902,\n",
              "  1.5822912454605103,\n",
              "  1.2042722702026367,\n",
              "  0.9479427337646484,\n",
              "  0.7877020239830017,\n",
              "  0.6841188669204712,\n",
              "  0.612938642501831,\n",
              "  0.561302125453949,\n",
              "  0.5222085118293762,\n",
              "  0.49161264300346375],\n",
              " 'val_accuracy': [0.6032999753952026,\n",
              "  0.7199000120162964,\n",
              "  0.7781000137329102,\n",
              "  0.8190000057220459,\n",
              "  0.8356000185012817,\n",
              "  0.8521999716758728,\n",
              "  0.8636000156402588,\n",
              "  0.8704000115394592,\n",
              "  0.8773000240325928,\n",
              "  0.8812999725341797],\n",
              " 'val_loss': [1.7942107915878296,\n",
              "  1.3565055131912231,\n",
              "  1.0351911783218384,\n",
              "  0.832297146320343,\n",
              "  0.7053037881851196,\n",
              "  0.6206223368644714,\n",
              "  0.5608457326889038,\n",
              "  0.5172286033630371,\n",
              "  0.4829559624195099,\n",
              "  0.45646899938583374]}"
            ]
          },
          "metadata": {
            "tags": []
          },
          "execution_count": 28
        }
      ]
    },
    {
      "cell_type": "markdown",
      "metadata": {
        "id": "PRSyULVw9oOI"
      },
      "source": [
        "## We can train more\n"
      ]
    },
    {
      "cell_type": "code",
      "metadata": {
        "id": "x0ruDt12H8R-",
        "colab": {
          "base_uri": "https://localhost:8080/"
        },
        "outputId": "0d40093e-7a4e-4f98-e109-5a427849510f"
      },
      "source": [
        "model.fit(x_train, y_train,\n",
        "                    batch_size=batch_size,\n",
        "                    epochs=30,\n",
        "                    verbose=1, # This is for what we want it to display out as it trains \n",
        "                    validation_data=(x_test, y_test))"
      ],
      "execution_count": 29,
      "outputs": [
        {
          "output_type": "stream",
          "text": [
            "Epoch 1/30\n",
            "600/600 [==============================] - 1s 2ms/step - loss: 0.4670 - accuracy: 0.8784 - val_loss: 0.4346 - val_accuracy: 0.8864\n",
            "Epoch 2/30\n",
            "600/600 [==============================] - 1s 2ms/step - loss: 0.4466 - accuracy: 0.8821 - val_loss: 0.4166 - val_accuracy: 0.8899\n",
            "Epoch 3/30\n",
            "600/600 [==============================] - 1s 2ms/step - loss: 0.4296 - accuracy: 0.8853 - val_loss: 0.4015 - val_accuracy: 0.8927\n",
            "Epoch 4/30\n",
            "600/600 [==============================] - 1s 2ms/step - loss: 0.4151 - accuracy: 0.8882 - val_loss: 0.3882 - val_accuracy: 0.8956\n",
            "Epoch 5/30\n",
            "600/600 [==============================] - 1s 2ms/step - loss: 0.4024 - accuracy: 0.8910 - val_loss: 0.3772 - val_accuracy: 0.8980\n",
            "Epoch 6/30\n",
            "600/600 [==============================] - 1s 2ms/step - loss: 0.3913 - accuracy: 0.8937 - val_loss: 0.3671 - val_accuracy: 0.8987\n",
            "Epoch 7/30\n",
            "600/600 [==============================] - 1s 2ms/step - loss: 0.3815 - accuracy: 0.8955 - val_loss: 0.3583 - val_accuracy: 0.9019\n",
            "Epoch 8/30\n",
            "600/600 [==============================] - 1s 2ms/step - loss: 0.3726 - accuracy: 0.8970 - val_loss: 0.3504 - val_accuracy: 0.9044\n",
            "Epoch 9/30\n",
            "600/600 [==============================] - 1s 2ms/step - loss: 0.3646 - accuracy: 0.8994 - val_loss: 0.3431 - val_accuracy: 0.9066\n",
            "Epoch 10/30\n",
            "600/600 [==============================] - 1s 2ms/step - loss: 0.3573 - accuracy: 0.9010 - val_loss: 0.3366 - val_accuracy: 0.9081\n",
            "Epoch 11/30\n",
            "600/600 [==============================] - 1s 2ms/step - loss: 0.3507 - accuracy: 0.9020 - val_loss: 0.3303 - val_accuracy: 0.9088\n",
            "Epoch 12/30\n",
            "600/600 [==============================] - 1s 2ms/step - loss: 0.3445 - accuracy: 0.9038 - val_loss: 0.3249 - val_accuracy: 0.9098\n",
            "Epoch 13/30\n",
            "600/600 [==============================] - 1s 2ms/step - loss: 0.3387 - accuracy: 0.9050 - val_loss: 0.3196 - val_accuracy: 0.9110\n",
            "Epoch 14/30\n",
            "600/600 [==============================] - 1s 2ms/step - loss: 0.3334 - accuracy: 0.9064 - val_loss: 0.3150 - val_accuracy: 0.9118\n",
            "Epoch 15/30\n",
            "600/600 [==============================] - 1s 2ms/step - loss: 0.3284 - accuracy: 0.9078 - val_loss: 0.3108 - val_accuracy: 0.9132\n",
            "Epoch 16/30\n",
            "600/600 [==============================] - 1s 2ms/step - loss: 0.3236 - accuracy: 0.9089 - val_loss: 0.3065 - val_accuracy: 0.9142\n",
            "Epoch 17/30\n",
            "600/600 [==============================] - 1s 2ms/step - loss: 0.3192 - accuracy: 0.9100 - val_loss: 0.3026 - val_accuracy: 0.9158\n",
            "Epoch 18/30\n",
            "600/600 [==============================] - 1s 2ms/step - loss: 0.3150 - accuracy: 0.9112 - val_loss: 0.2987 - val_accuracy: 0.9156\n",
            "Epoch 19/30\n",
            "600/600 [==============================] - 1s 2ms/step - loss: 0.3110 - accuracy: 0.9120 - val_loss: 0.2950 - val_accuracy: 0.9172\n",
            "Epoch 20/30\n",
            "600/600 [==============================] - 1s 2ms/step - loss: 0.3072 - accuracy: 0.9130 - val_loss: 0.2915 - val_accuracy: 0.9183\n",
            "Epoch 21/30\n",
            "600/600 [==============================] - 1s 2ms/step - loss: 0.3036 - accuracy: 0.9143 - val_loss: 0.2886 - val_accuracy: 0.9184\n",
            "Epoch 22/30\n",
            "600/600 [==============================] - 1s 2ms/step - loss: 0.3001 - accuracy: 0.9152 - val_loss: 0.2854 - val_accuracy: 0.9199\n",
            "Epoch 23/30\n",
            "600/600 [==============================] - 1s 2ms/step - loss: 0.2967 - accuracy: 0.9161 - val_loss: 0.2824 - val_accuracy: 0.9203\n",
            "Epoch 24/30\n",
            "600/600 [==============================] - 1s 2ms/step - loss: 0.2935 - accuracy: 0.9169 - val_loss: 0.2795 - val_accuracy: 0.9217\n",
            "Epoch 25/30\n",
            "600/600 [==============================] - 1s 2ms/step - loss: 0.2904 - accuracy: 0.9179 - val_loss: 0.2768 - val_accuracy: 0.9222\n",
            "Epoch 26/30\n",
            "600/600 [==============================] - 1s 2ms/step - loss: 0.2874 - accuracy: 0.9187 - val_loss: 0.2745 - val_accuracy: 0.9228\n",
            "Epoch 27/30\n",
            "600/600 [==============================] - 1s 2ms/step - loss: 0.2845 - accuracy: 0.9195 - val_loss: 0.2718 - val_accuracy: 0.9240\n",
            "Epoch 28/30\n",
            "600/600 [==============================] - 1s 2ms/step - loss: 0.2817 - accuracy: 0.9206 - val_loss: 0.2694 - val_accuracy: 0.9237\n",
            "Epoch 29/30\n",
            "600/600 [==============================] - 1s 2ms/step - loss: 0.2790 - accuracy: 0.9210 - val_loss: 0.2666 - val_accuracy: 0.9245\n",
            "Epoch 30/30\n",
            "600/600 [==============================] - 1s 2ms/step - loss: 0.2764 - accuracy: 0.9216 - val_loss: 0.2645 - val_accuracy: 0.9253\n"
          ],
          "name": "stdout"
        },
        {
          "output_type": "execute_result",
          "data": {
            "text/plain": [
              "<tensorflow.python.keras.callbacks.History at 0x7f5c88382910>"
            ]
          },
          "metadata": {
            "tags": []
          },
          "execution_count": 29
        }
      ]
    },
    {
      "cell_type": "markdown",
      "metadata": {
        "id": "KdxCpdV6Nmyy"
      },
      "source": [
        "## Now your turn\n",
        "\n",
        "I want you to build a Sequential model "
      ]
    },
    {
      "cell_type": "code",
      "metadata": {
        "id": "d_SDqEzzNmyz"
      },
      "source": [
        "# Network Parameters\n",
        "n_input =  784# MNIST data input (img shape: 28*28 flattened to be 784)\n",
        "n_hidden_1 = 100 # 1st layer number of neurons\n",
        "n_hidden_2 = 100 # 2nd layer number of neurons\n",
        "n_hidden_3 = 100 # 3rd layer number of neurons\n",
        "n_hidden_4 = 100 # 4th layer number of neurons\n",
        "n_classes =  10# MNIST classes for prediction(digits 0-9 )"
      ],
      "execution_count": 30,
      "outputs": []
    },
    {
      "cell_type": "code",
      "metadata": {
        "id": "UY2h3EyPNmy2"
      },
      "source": [
        "# Build your model here\n",
        "model = Sequential(name='my_basic_model_01')\n",
        "model.add(Dense(n_hidden_1,  input_shape=(n_input,),activation='relu', name = \"Dense_1\"))\n",
        "model.add(Dense(n_hidden_2, activation='relu', name = \"Dense_2\"))\n",
        "model.add(Dense(n_hidden_3, activation='relu', name = \"Dense_3\"))\n",
        "model.add(Dense(n_hidden_4, activation='relu', name = \"Dense_4\"))\n",
        "model.add(Dense(n_classes, activation='softmax', name = \"Output\"))\n",
        "\n",
        "model2 = Sequential(name='my_basic_model_02')\n",
        "model2.add(Dense(n_hidden_1*2,  input_shape=(n_input,),activation='relu', name = \"Dense_1\"))\n",
        "model2.add(Dense(n_hidden_2*2, activation='relu', name = \"Dense_2\"))\n",
        "model2.add(Dense(n_classes, activation='softmax', name = \"Output\"))"
      ],
      "execution_count": 31,
      "outputs": []
    },
    {
      "cell_type": "code",
      "metadata": {
        "id": "NYDj1c1BNmy4"
      },
      "source": [
        "# Training Parameters for basic MNIST\n",
        "learning_rate = 0.1 \n",
        "training_epochs = 5\n",
        "batch_size = 100"
      ],
      "execution_count": 32,
      "outputs": []
    },
    {
      "cell_type": "code",
      "metadata": {
        "id": "iB-s7x-HNmzA",
        "colab": {
          "base_uri": "https://localhost:8080/"
        },
        "outputId": "1e56ebfc-30af-42c8-9a39-21c02140409a"
      },
      "source": [
        "#test to see that it worked\n",
        "model.summary()"
      ],
      "execution_count": 33,
      "outputs": [
        {
          "output_type": "stream",
          "text": [
            "Model: \"my_basic_model_01\"\n",
            "_________________________________________________________________\n",
            "Layer (type)                 Output Shape              Param #   \n",
            "=================================================================\n",
            "Dense_1 (Dense)              (None, 100)               78500     \n",
            "_________________________________________________________________\n",
            "Dense_2 (Dense)              (None, 100)               10100     \n",
            "_________________________________________________________________\n",
            "Dense_3 (Dense)              (None, 100)               10100     \n",
            "_________________________________________________________________\n",
            "Dense_4 (Dense)              (None, 100)               10100     \n",
            "_________________________________________________________________\n",
            "Output (Dense)               (None, 10)                1010      \n",
            "=================================================================\n",
            "Total params: 109,810\n",
            "Trainable params: 109,810\n",
            "Non-trainable params: 0\n",
            "_________________________________________________________________\n"
          ],
          "name": "stdout"
        }
      ]
    },
    {
      "cell_type": "code",
      "metadata": {
        "id": "o-BdU_8nNmzC"
      },
      "source": [
        "opt = SGD(lr=learning_rate)"
      ],
      "execution_count": 34,
      "outputs": []
    },
    {
      "cell_type": "code",
      "metadata": {
        "id": "q30Je4IuNmy8"
      },
      "source": [
        "#now compile your model\n",
        "model.compile(loss='categorical_crossentropy',\n",
        "              optimizer= opt,\n",
        "              metrics=['accuracy'])"
      ],
      "execution_count": 35,
      "outputs": []
    },
    {
      "cell_type": "code",
      "metadata": {
        "id": "FVnRZnDI77R_"
      },
      "source": [
        "#now compile your model\n",
        "model2.compile(loss='categorical_crossentropy',\n",
        "              optimizer= opt,\n",
        "              metrics=['accuracy'])"
      ],
      "execution_count": 36,
      "outputs": []
    },
    {
      "cell_type": "code",
      "metadata": {
        "id": "Quz31K2DNmzG",
        "colab": {
          "base_uri": "https://localhost:8080/"
        },
        "outputId": "c06f35ae-333b-48dc-aca7-be260f352371"
      },
      "source": [
        "# now train/fit your model\n",
        "history = model.fit(x_train, y_train,\n",
        "                    batch_size=batch_size,\n",
        "                    epochs=20,\n",
        "                    verbose=1,\n",
        "                    validation_data=(x_test, y_test))"
      ],
      "execution_count": 37,
      "outputs": [
        {
          "output_type": "stream",
          "text": [
            "Epoch 1/20\n",
            "600/600 [==============================] - 2s 3ms/step - loss: 0.8775 - accuracy: 0.7174 - val_loss: 0.2052 - val_accuracy: 0.9382\n",
            "Epoch 2/20\n",
            "600/600 [==============================] - 1s 2ms/step - loss: 0.1848 - accuracy: 0.9443 - val_loss: 0.1429 - val_accuracy: 0.9540\n",
            "Epoch 3/20\n",
            "600/600 [==============================] - 1s 2ms/step - loss: 0.1252 - accuracy: 0.9617 - val_loss: 0.1274 - val_accuracy: 0.9595\n",
            "Epoch 4/20\n",
            "600/600 [==============================] - 1s 2ms/step - loss: 0.0967 - accuracy: 0.9709 - val_loss: 0.0944 - val_accuracy: 0.9706\n",
            "Epoch 5/20\n",
            "600/600 [==============================] - 1s 2ms/step - loss: 0.0793 - accuracy: 0.9763 - val_loss: 0.0977 - val_accuracy: 0.9694\n",
            "Epoch 6/20\n",
            "600/600 [==============================] - 1s 2ms/step - loss: 0.0647 - accuracy: 0.9801 - val_loss: 0.0849 - val_accuracy: 0.9727\n",
            "Epoch 7/20\n",
            "600/600 [==============================] - 1s 2ms/step - loss: 0.0530 - accuracy: 0.9835 - val_loss: 0.0913 - val_accuracy: 0.9702\n",
            "Epoch 8/20\n",
            "600/600 [==============================] - 1s 2ms/step - loss: 0.0450 - accuracy: 0.9863 - val_loss: 0.0870 - val_accuracy: 0.9730\n",
            "Epoch 9/20\n",
            "600/600 [==============================] - 1s 2ms/step - loss: 0.0406 - accuracy: 0.9872 - val_loss: 0.0784 - val_accuracy: 0.9748\n",
            "Epoch 10/20\n",
            "600/600 [==============================] - 1s 2ms/step - loss: 0.0322 - accuracy: 0.9900 - val_loss: 0.0781 - val_accuracy: 0.9764\n",
            "Epoch 11/20\n",
            "600/600 [==============================] - 2s 3ms/step - loss: 0.0289 - accuracy: 0.9914 - val_loss: 0.0753 - val_accuracy: 0.9780\n",
            "Epoch 12/20\n",
            "600/600 [==============================] - 1s 2ms/step - loss: 0.0259 - accuracy: 0.9919 - val_loss: 0.0861 - val_accuracy: 0.9756\n",
            "Epoch 13/20\n",
            "600/600 [==============================] - 1s 2ms/step - loss: 0.0200 - accuracy: 0.9946 - val_loss: 0.0771 - val_accuracy: 0.9773\n",
            "Epoch 14/20\n",
            "600/600 [==============================] - 1s 2ms/step - loss: 0.0163 - accuracy: 0.9951 - val_loss: 0.0823 - val_accuracy: 0.9780\n",
            "Epoch 15/20\n",
            "600/600 [==============================] - 1s 2ms/step - loss: 0.0151 - accuracy: 0.9956 - val_loss: 0.0783 - val_accuracy: 0.9793\n",
            "Epoch 16/20\n",
            "600/600 [==============================] - 1s 2ms/step - loss: 0.0129 - accuracy: 0.9961 - val_loss: 0.1114 - val_accuracy: 0.9695\n",
            "Epoch 17/20\n",
            "600/600 [==============================] - 1s 2ms/step - loss: 0.0116 - accuracy: 0.9964 - val_loss: 0.0847 - val_accuracy: 0.9774\n",
            "Epoch 18/20\n",
            "600/600 [==============================] - 1s 2ms/step - loss: 0.0096 - accuracy: 0.9974 - val_loss: 0.0901 - val_accuracy: 0.9768\n",
            "Epoch 19/20\n",
            "600/600 [==============================] - 1s 2ms/step - loss: 0.0091 - accuracy: 0.9977 - val_loss: 0.0837 - val_accuracy: 0.9790\n",
            "Epoch 20/20\n",
            "600/600 [==============================] - 1s 2ms/step - loss: 0.0052 - accuracy: 0.9988 - val_loss: 0.0861 - val_accuracy: 0.9785\n"
          ],
          "name": "stdout"
        }
      ]
    },
    {
      "cell_type": "code",
      "metadata": {
        "colab": {
          "base_uri": "https://localhost:8080/"
        },
        "id": "LGw2MHkX7-7L",
        "outputId": "20db33fa-c573-456c-c0f8-abb6cf2fdc7b"
      },
      "source": [
        "# now train/fit your model\n",
        "history = model2.fit(x_train, y_train,\n",
        "                    batch_size=batch_size,\n",
        "                    epochs=20,\n",
        "                    verbose=1,\n",
        "                    validation_data=(x_test, y_test))"
      ],
      "execution_count": 38,
      "outputs": [
        {
          "output_type": "stream",
          "text": [
            "Epoch 1/20\n",
            "600/600 [==============================] - 2s 2ms/step - loss: 0.6578 - accuracy: 0.8177 - val_loss: 0.2171 - val_accuracy: 0.9377\n",
            "Epoch 2/20\n",
            "600/600 [==============================] - 1s 2ms/step - loss: 0.1941 - accuracy: 0.9443 - val_loss: 0.1451 - val_accuracy: 0.9583\n",
            "Epoch 3/20\n",
            "600/600 [==============================] - 1s 2ms/step - loss: 0.1360 - accuracy: 0.9596 - val_loss: 0.1170 - val_accuracy: 0.9647\n",
            "Epoch 4/20\n",
            "600/600 [==============================] - 1s 2ms/step - loss: 0.1084 - accuracy: 0.9686 - val_loss: 0.1071 - val_accuracy: 0.9678\n",
            "Epoch 5/20\n",
            "600/600 [==============================] - 1s 2ms/step - loss: 0.0855 - accuracy: 0.9750 - val_loss: 0.0930 - val_accuracy: 0.9716\n",
            "Epoch 6/20\n",
            "600/600 [==============================] - 1s 2ms/step - loss: 0.0702 - accuracy: 0.9791 - val_loss: 0.0882 - val_accuracy: 0.9717\n",
            "Epoch 7/20\n",
            "600/600 [==============================] - 1s 2ms/step - loss: 0.0599 - accuracy: 0.9827 - val_loss: 0.0869 - val_accuracy: 0.9720\n",
            "Epoch 8/20\n",
            "600/600 [==============================] - 2s 3ms/step - loss: 0.0525 - accuracy: 0.9854 - val_loss: 0.0757 - val_accuracy: 0.9764\n",
            "Epoch 9/20\n",
            "600/600 [==============================] - 1s 2ms/step - loss: 0.0442 - accuracy: 0.9867 - val_loss: 0.0737 - val_accuracy: 0.9767\n",
            "Epoch 10/20\n",
            "600/600 [==============================] - 1s 2ms/step - loss: 0.0407 - accuracy: 0.9881 - val_loss: 0.0705 - val_accuracy: 0.9779\n",
            "Epoch 11/20\n",
            "600/600 [==============================] - 1s 2ms/step - loss: 0.0348 - accuracy: 0.9903 - val_loss: 0.0712 - val_accuracy: 0.9766\n",
            "Epoch 12/20\n",
            "600/600 [==============================] - 1s 2ms/step - loss: 0.0284 - accuracy: 0.9932 - val_loss: 0.0666 - val_accuracy: 0.9779\n",
            "Epoch 13/20\n",
            "600/600 [==============================] - 1s 2ms/step - loss: 0.0253 - accuracy: 0.9939 - val_loss: 0.0694 - val_accuracy: 0.9780\n",
            "Epoch 14/20\n",
            "600/600 [==============================] - 1s 2ms/step - loss: 0.0216 - accuracy: 0.9951 - val_loss: 0.0682 - val_accuracy: 0.9776\n",
            "Epoch 15/20\n",
            "600/600 [==============================] - 1s 2ms/step - loss: 0.0186 - accuracy: 0.9955 - val_loss: 0.0683 - val_accuracy: 0.9788\n",
            "Epoch 16/20\n",
            "600/600 [==============================] - 1s 2ms/step - loss: 0.0165 - accuracy: 0.9969 - val_loss: 0.0649 - val_accuracy: 0.9793\n",
            "Epoch 17/20\n",
            "600/600 [==============================] - 1s 2ms/step - loss: 0.0134 - accuracy: 0.9977 - val_loss: 0.0670 - val_accuracy: 0.9788\n",
            "Epoch 18/20\n",
            "600/600 [==============================] - 1s 2ms/step - loss: 0.0120 - accuracy: 0.9982 - val_loss: 0.0668 - val_accuracy: 0.9794\n",
            "Epoch 19/20\n",
            "600/600 [==============================] - 1s 2ms/step - loss: 0.0117 - accuracy: 0.9983 - val_loss: 0.0656 - val_accuracy: 0.9804\n",
            "Epoch 20/20\n",
            "600/600 [==============================] - 1s 2ms/step - loss: 0.0098 - accuracy: 0.9986 - val_loss: 0.0670 - val_accuracy: 0.9794\n"
          ],
          "name": "stdout"
        }
      ]
    },
    {
      "cell_type": "code",
      "metadata": {
        "id": "Ar4Vj0bRNmzM",
        "colab": {
          "base_uri": "https://localhost:8080/"
        },
        "outputId": "6df9f781-bc92-4d7a-cff3-45399af0f8c2"
      },
      "source": [
        "score = model.evaluate(x_test, y_test, verbose=0)\n",
        "print('Test loss:', score[0])\n",
        "print('Test accuracy:', score[1])"
      ],
      "execution_count": 39,
      "outputs": [
        {
          "output_type": "stream",
          "text": [
            "Test loss: 0.08612939715385437\n",
            "Test accuracy: 0.9785000085830688\n"
          ],
          "name": "stdout"
        }
      ]
    },
    {
      "cell_type": "code",
      "metadata": {
        "colab": {
          "base_uri": "https://localhost:8080/"
        },
        "id": "lY60e40A8EK3",
        "outputId": "14de56e3-04c2-490a-83ac-b21978397ec1"
      },
      "source": [
        "score = model2.evaluate(x_test, y_test, verbose=0)\n",
        "print('Test loss:', score[0])\n",
        "print('Test accuracy:', score[1])"
      ],
      "execution_count": 40,
      "outputs": [
        {
          "output_type": "stream",
          "text": [
            "Test loss: 0.0670100674033165\n",
            "Test accuracy: 0.9793999791145325\n"
          ],
          "name": "stdout"
        }
      ]
    },
    {
      "cell_type": "code",
      "metadata": {
        "id": "0wzIaV798Kof"
      },
      "source": [
        ""
      ],
      "execution_count": 40,
      "outputs": []
    }
  ]
}